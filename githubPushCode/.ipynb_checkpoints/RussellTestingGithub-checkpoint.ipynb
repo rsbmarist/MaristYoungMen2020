{
 "cells": [
  {
   "cell_type": "code",
   "execution_count": 2,
   "metadata": {},
   "outputs": [],
   "source": []
  },
  {
   "cell_type": "code",
   "execution_count": 3,
   "metadata": {},
   "outputs": [],
   "source": [
    "import pandas as pd\n",
    "import os\n",
    "from pathlib import Path\n",
    "import csv\n",
    "from git import Repo"
   ]
  },
  {
   "cell_type": "code",
   "execution_count": 7,
   "metadata": {},
   "outputs": [
    {
     "data": {
      "text/plain": [
       "'C:\\\\Users\\\\Russell\\\\OneDrive - Marist College\\\\School\\\\Spring 2020\\\\DATA 450 Data Capping\\\\Repository'"
      ]
     },
     "execution_count": 7,
     "metadata": {},
     "output_type": "execute_result"
    }
   ],
   "source": [
    "#This gets the parent directory of the current directory\n",
    "current = os.getcwd()\n",
    "path = Path(current)\n",
    "repo_folder = str(path.parent)\n",
    "repo_folder"
   ]
  },
  {
   "cell_type": "code",
   "execution_count": 8,
   "metadata": {},
   "outputs": [
    {
     "data": {
      "text/plain": [
       "'C:\\\\Users\\\\Russell\\\\OneDrive - Marist College\\\\School\\\\Spring 2020\\\\DATA 450 Data Capping\\\\Repository\\\\data\\\\StockTwits'"
      ]
     },
     "execution_count": 8,
     "metadata": {},
     "output_type": "execute_result"
    }
   ],
   "source": [
    "path_to_repoTwits = str(path.parent)+\"\\\\data\\\\StockTwits\"\n",
    "path_to_repoTwits"
   ]
  },
  {
   "cell_type": "code",
   "execution_count": 23,
   "metadata": {},
   "outputs": [
    {
     "data": {
      "text/plain": [
       "'C:\\\\Users\\\\Russe\\\\OneDrive - Marist College\\\\School\\\\Spring 2020\\\\DATA 450 Data Capping\\\\StockTwits'"
      ]
     },
     "execution_count": 23,
     "metadata": {},
     "output_type": "execute_result"
    }
   ],
   "source": [
    "path_to_oldTwits = str(path.parent.parent)+'\\\\StockTwits'\n",
    "path_to_oldTwits"
   ]
  },
  {
   "cell_type": "code",
   "execution_count": 24,
   "metadata": {},
   "outputs": [],
   "source": [
    "symbol = 'AAPL'\n",
    "dataFrame =  pd.read_csv(path_to_oldTwits+'\\\\{}_twits.csv'.format(symbol))"
   ]
  },
  {
   "cell_type": "code",
   "execution_count": 25,
   "metadata": {},
   "outputs": [],
   "source": [
    "dataFrame.to_csv(path_to_repoTwits+'\\\\{}_twits.csv'.format(symbol))"
   ]
  },
  {
   "cell_type": "code",
   "execution_count": null,
   "metadata": {},
   "outputs": [],
   "source": []
  },
  {
   "cell_type": "code",
   "execution_count": 13,
   "metadata": {},
   "outputs": [
    {
     "ename": "NameError",
     "evalue": "name 'Repo' is not defined",
     "output_type": "error",
     "traceback": [
      "\u001b[1;31m---------------------------------------------------------------------------\u001b[0m",
      "\u001b[1;31mNameError\u001b[0m                                 Traceback (most recent call last)",
      "\u001b[1;32m<ipython-input-13-856476e63e2f>\u001b[0m in \u001b[0;36m<module>\u001b[1;34m\u001b[0m\n\u001b[0;32m      1\u001b[0m \u001b[0mrepo_dir\u001b[0m \u001b[1;33m=\u001b[0m \u001b[0mrepo_folder\u001b[0m\u001b[1;33m\u001b[0m\u001b[1;33m\u001b[0m\u001b[0m\n\u001b[1;32m----> 2\u001b[1;33m \u001b[0mrepo\u001b[0m \u001b[1;33m=\u001b[0m \u001b[0mRepo\u001b[0m\u001b[1;33m(\u001b[0m\u001b[0mrepo_dir\u001b[0m\u001b[1;33m)\u001b[0m\u001b[1;33m\u001b[0m\u001b[1;33m\u001b[0m\u001b[0m\n\u001b[0m\u001b[0;32m      3\u001b[0m file_list = [\n\u001b[0;32m      4\u001b[0m     \u001b[0mpath_to_repoTwits\u001b[0m\u001b[1;33m+\u001b[0m\u001b[1;34m'\\\\{}_twits.csv'\u001b[0m\u001b[1;33m.\u001b[0m\u001b[0mformat\u001b[0m\u001b[1;33m(\u001b[0m\u001b[1;34m'AAPL'\u001b[0m\u001b[1;33m)\u001b[0m\u001b[1;33m\u001b[0m\u001b[1;33m\u001b[0m\u001b[0m\n\u001b[0;32m      5\u001b[0m ]\n",
      "\u001b[1;31mNameError\u001b[0m: name 'Repo' is not defined"
     ]
    }
   ],
   "source": [
    "repo_dir = repo_folder\n",
    "repo = Repo(repo_dir)\n",
    "file_list = [\n",
    "    path_to_repoTwits+'\\\\{}_twits.csv'.format('AAPL')\n",
    "]\n",
    "commit_message = 'Add the AAPL file'\n",
    "repo.index.add(file_list)\n",
    "repo.index.commit(commit_message)\n",
    "origin = repo.remote('origin')\n",
    "origin.push()"
   ]
  },
  {
   "cell_type": "markdown",
   "metadata": {},
   "source": [
    "## Want to make an infinite loop that reads the updated files\n",
    "<p>This infinite loop will read the files and upload them to github to access anywhere. </p>"
   ]
  },
  {
   "cell_type": "code",
   "execution_count": 4,
   "metadata": {},
   "outputs": [],
   "source": [
    "import pandas as pd\n",
    "import os\n",
    "from pathlib import Path\n",
    "import csv\n",
    "\n",
    "from git import Repo"
   ]
  },
  {
   "cell_type": "code",
   "execution_count": 5,
   "metadata": {},
   "outputs": [
    {
     "name": "stdout",
     "output_type": "stream",
     "text": [
      "C:\\Users\\Russell\\OneDrive - Marist College\\School\\Spring 2020\\DATA 450 Data Capping\\Repository\n"
     ]
    },
    {
     "data": {
      "text/plain": [
       "'C:\\\\Users\\\\Russell\\\\OneDrive - Marist College\\\\School\\\\Spring 2020\\\\DATA 450 Data Capping\\\\Repository\\\\data\\\\StockTwits'"
      ]
     },
     "execution_count": 5,
     "metadata": {},
     "output_type": "execute_result"
    }
   ],
   "source": [
    "#This gets the parent directory of the current directory\n",
    "current = os.getcwd()\n",
    "path = Path(current)\n",
    "repo_folder = str(path.parent)\n",
    "print(repo_folder)\n",
    "\n",
    "path_to_repoTwits = str(path.parent)+\"\\\\data\\\\StockTwits\"\n",
    "path_to_repoTwits"
   ]
  },
  {
   "cell_type": "markdown",
   "metadata": {},
   "source": [
    "### Automatic Github Push\n",
    "<p>This is an infinite while loop that pushes the Stocktwits data to the repository.</p>"
   ]
  },
  {
   "cell_type": "code",
   "execution_count": null,
   "metadata": {},
   "outputs": [],
   "source": [
    "#Take the comment off of the while statement for the infinite loop.\n",
    "\n",
    "while True:\n",
    "\n",
    "    \n",
    "    file_list = []\n",
    "    for symbol in stockSymbol:\n",
    "        file_list.append(path_to_repoTwits+'\\\\{}_twits.csv'.format(symbol))\n",
    "    \n",
    "    repo_dir = repo_folder\n",
    "    repo = Repo(repo_dir)\n",
    "\n",
    "    commit_message = 'Updates all Stocktwits files'\n",
    "    repo.index.add(file_list)\n",
    "    repo.index.commit(commit_message)\n",
    "    origin = repo.remote('origin')\n",
    "    origin.push()\n",
    "    \n",
    "    #This code will wait 4 hours before trying to push again.\n",
    "    time.sleep(14400)"
   ]
  },
  {
   "cell_type": "markdown",
   "metadata": {},
   "source": [
    "### This code pushes all 15 company twits to github once."
   ]
  },
  {
   "cell_type": "code",
   "execution_count": 6,
   "metadata": {},
   "outputs": [
    {
     "data": {
      "text/plain": [
       "[<git.remote.PushInfo at 0x26826252408>]"
      ]
     },
     "execution_count": 6,
     "metadata": {},
     "output_type": "execute_result"
    }
   ],
   "source": [
    "file_list = []\n",
    "stockSymbol = [\"AAPL\", \"AMZN\", \"GOOGL\",\"MSFT\", \"DELL\", \"IBM\", \"INTC\", \"HPQ\",\n",
    "               \"FB\", \"CSCO\", \"ORCL\", \"HPE\", \"MU\", \"DXC\", \"TMO\"]\n",
    "for symbol in stockSymbol:\n",
    "    file_list.append(path_to_repoTwits+'\\\\{}_twits.csv'.format(symbol))\n",
    "    \n",
    "repo_dir = repo_folder\n",
    "repo = Repo(repo_dir)\n",
    "\n",
    "commit_message = 'Updates all Stocktwits files'\n",
    "repo.index.add(file_list)\n",
    "repo.index.commit(commit_message)\n",
    "origin = repo.remote('origin')\n",
    "origin.push()"
   ]
  },
  {
   "cell_type": "code",
   "execution_count": null,
   "metadata": {},
   "outputs": [],
   "source": []
  }
 ],
 "metadata": {
  "kernelspec": {
   "display_name": "Python 3",
   "language": "python",
   "name": "python3"
  },
  "language_info": {
   "codemirror_mode": {
    "name": "ipython",
    "version": 3
   },
   "file_extension": ".py",
   "mimetype": "text/x-python",
   "name": "python",
   "nbconvert_exporter": "python",
   "pygments_lexer": "ipython3",
   "version": "3.7.6"
  }
 },
 "nbformat": 4,
 "nbformat_minor": 4
}
