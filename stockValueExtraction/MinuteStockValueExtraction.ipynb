{
 "cells": [
  {
   "cell_type": "code",
   "execution_count": 1,
   "metadata": {},
   "outputs": [],
   "source": [
    "import pandas as pd\n",
    "import requests\n",
    "import json\n",
    "from pandas.io.json import json_normalize\n",
    "from datetime import datetime\n",
    "from pathlib import Path\n",
    "import os\n",
    "import time"
   ]
  },
  {
   "cell_type": "code",
   "execution_count": 2,
   "metadata": {},
   "outputs": [],
   "source": [
    "key = 'AU74VSFGT1S37O4A'\n",
    "stockSymbol = [\"AAPL\", \"AMZN\", \"GOOGL\",\"MSFT\", \"DELL\", \"IBM\", \"INTC\", \"HPQ\",\n",
    "               \"FB\", \"CSCO\", \"ORCL\", \"HPE\", \"MU\", \"DXC\", \"TMO\"]"
   ]
  },
  {
   "cell_type": "code",
   "execution_count": null,
   "metadata": {},
   "outputs": [],
   "source": []
  },
  {
   "cell_type": "code",
   "execution_count": 3,
   "metadata": {},
   "outputs": [
    {
     "name": "stdout",
     "output_type": "stream",
     "text": [
      "C:\\Users\\Russell\\OneDrive - Marist College\\School\\Spring 2020\\DATA 450 Data Capping\\Repository\n",
      "C:\\Users\\Russell\\OneDrive - Marist College\\School\\Spring 2020\\DATA 450 Data Capping\\Repository\\data\\MinuteValues\n"
     ]
    }
   ],
   "source": [
    "#This gets the parent directory of the current directory\n",
    "current = os.getcwd()\n",
    "path = Path(current)\n",
    "repo_folder = path.parent\n",
    "print(repo_folder)\n",
    "\n",
    "path_to_Values = str(repo_folder)+'\\\\data\\\\MinuteValues'\n",
    "print(path_to_Values)"
   ]
  },
  {
   "cell_type": "code",
   "execution_count": 4,
   "metadata": {},
   "outputs": [],
   "source": [
    "for symbol in stockSymbol:\n",
    "    \n",
    "    newDf = pd.DataFrame(columns =[\"open\", \"high\", \"low\", \"close\", 'volume','time'])\n",
    "    \n",
    "    \n",
    "    url = ('https://www.alphavantage.co/query?function=TIME_SERIES_INTRADAY&symbol={}&interval=1min&outputsize=full&apikey='+key).format(symbol)\n",
    "    stockRes = requests.get(url).json()\n",
    "    \n",
    "    file = path_to_Values+'\\\\{}Values.csv'.format(symbol)\n",
    "    df=pd.read_csv(file)\n",
    "    df.time = pd.to_datetime(df.time)\n",
    "    \n",
    "    for times in stockRes['Time Series (1min)'].keys():\n",
    "        timestamp = datetime.strptime(times, '%Y-%m-%d %H:%M:%S')\n",
    "        ope = stockRes['Time Series (1min)'][times]['1. open']\n",
    "        high = stockRes['Time Series (1min)'][times]['2. high']\n",
    "        low = stockRes['Time Series (1min)'][times]['3. low']\n",
    "        close = stockRes['Time Series (1min)'][times]['4. close']\n",
    "        volume = stockRes['Time Series (1min)'][times]['5. volume']\n",
    "        \n",
    "        \n",
    "        newDf = newDf.append({\"open\":ope, \"high\":high, \"low\":low, \"close\":close, \"volume\":volume, \"time\":timestamp}, ignore_index=True)\n",
    "    \n",
    "    dataframeValue = newDf.append(df)\n",
    "    \n",
    "    dataframeValue = dataframeValue[{'open', 'high', 'low', 'close', 'volume', 'time'}]\n",
    "    \n",
    "    dataframeValue['time'] = pd.to_datetime(dataframeValue['time'])\n",
    "    \n",
    "    dataframeValue = dataframeValue.drop_duplicates(subset='time')\n",
    "    \n",
    "    dataframeValue = dataframeValue.sort_values(by = 'time', ascending = False)\n",
    "    \n",
    "    dataframeValue.to_csv(file, index=False)\n",
    "    time.sleep(60)"
   ]
  },
  {
   "cell_type": "code",
   "execution_count": 26,
   "metadata": {},
   "outputs": [],
   "source": [
    "for symbol in stockSymbol:\n",
    "    oldFile = path_to_oldValues+'\\\\{}Values.csv'.format(symbol)\n",
    "    newFile = path_to_newValues+'\\\\{}Values.csv'.format(symbol)\n",
    "    oldDf = pd.read_csv(oldFile)\n",
    "    oldDf.time = pd.to_datetime(oldDf.time)\n",
    "    newDf = oldDf.sort_values(by = 'time', ascending = False)\n",
    "    newDf.to_csv(newFile, index=False)"
   ]
  },
  {
   "cell_type": "code",
   "execution_count": 28,
   "metadata": {},
   "outputs": [],
   "source": [
    "dailyUrl = 'https://www.alphavantage.co/query?function=TIME_SERIES_DAILY&symbol={}&outputsize=full&apikey='+key.format(symbol)"
   ]
  },
  {
   "cell_type": "code",
   "execution_count": 17,
   "metadata": {},
   "outputs": [],
   "source": [
    "for symbol in stockSymbol:\n",
    "    dailyUrl = ('https://www.alphavantage.co/query?function=TIME_SERIES_DAILY&symbol={}&outputsize=full&apikey='+key).format(symbol)\n",
    "    stockRes = requests.get(dailyUrl).json()\n",
    "    \n",
    "    file = path_to_newValues+'\\\\{}Daily.csv'.format(symbol)\n",
    "    \n",
    "    newDf = pd.DataFrame(columns =[\"open\", \"high\", \"low\", \"close\", 'volume','time'])\n",
    "    \n",
    "    \n",
    "    for times in stockRes['Time Series (Daily)'].keys():\n",
    "        timestamp = datetime.strptime(times, '%Y-%m-%d')\n",
    "        ope = stockRes['Time Series (Daily)'][times]['1. open']\n",
    "        high = stockRes['Time Series (Daily)'][times]['2. high']\n",
    "        low = stockRes['Time Series (Daily)'][times]['3. low']\n",
    "        close = stockRes['Time Series (Daily)'][times]['4. close']\n",
    "        volume = stockRes['Time Series (Daily)'][times]['5. volume']\n",
    "        \n",
    "        newDf = newDf.append({\"open\":ope, \"high\":high, \"low\":low, \"close\":close, \"volume\":volume, \"time\":timestamp}, ignore_index=True)\n",
    "    \n",
    "    dataframeValue = newDf\n",
    "    \n",
    "    dataframeValue = dataframeValue[{'open', 'high', 'low', 'close', 'volume', 'time'}]\n",
    "    \n",
    "    dataframeValue['time'] = pd.to_datetime(dataframeValue['time'])\n",
    "    \n",
    "    dataframeValue = dataframeValue.drop_duplicates(subset='time')\n",
    "    \n",
    "    dataframeValue.to_csv(file, index=False)\n",
    "    time.sleep(60)"
   ]
  },
  {
   "cell_type": "code",
   "execution_count": 35,
   "metadata": {},
   "outputs": [
    {
     "data": {
      "text/plain": [
       "{'Error Message': 'Invalid API call. Please retry or visit the documentation (https://www.alphavantage.co/documentation/) for TIME_SERIES_DAILY.'}"
      ]
     },
     "execution_count": 35,
     "metadata": {},
     "output_type": "execute_result"
    }
   ],
   "source": [
    "stockRes"
   ]
  },
  {
   "cell_type": "code",
   "execution_count": null,
   "metadata": {},
   "outputs": [],
   "source": []
  }
 ],
 "metadata": {
  "kernelspec": {
   "display_name": "Python 3",
   "language": "python",
   "name": "python3"
  },
  "language_info": {
   "codemirror_mode": {
    "name": "ipython",
    "version": 3
   },
   "file_extension": ".py",
   "mimetype": "text/x-python",
   "name": "python",
   "nbconvert_exporter": "python",
   "pygments_lexer": "ipython3",
   "version": "3.7.6"
  }
 },
 "nbformat": 4,
 "nbformat_minor": 2
}
