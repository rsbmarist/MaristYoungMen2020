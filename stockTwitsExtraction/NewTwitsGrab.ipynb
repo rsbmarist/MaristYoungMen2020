{
 "cells": [
  {
   "cell_type": "code",
   "execution_count": 30,
   "metadata": {},
   "outputs": [],
   "source": [
    "#Import statements\n",
    "import json\n",
    "import requests\n",
    "import pandas as pd\n",
    "import numpy as np\n",
    "import datetime\n",
    "from pandas.io.json import json_normalize\n",
    "from pathlib import Path\n",
    "import os\n",
    "import csv\n",
    "import time\n",
    "import demoji"
   ]
  },
  {
   "cell_type": "code",
   "execution_count": 31,
   "metadata": {},
   "outputs": [],
   "source": [
    "# The stock Symbols that we will iterate through\n",
    "# Apple = AAPL\n",
    "# Amazon = AMZN\n",
    "# Google = GOOGL\n",
    "# Microsoft = MSFT\n",
    "# Dell = DELL\n",
    "# IBM = IBM\n",
    "# Intel = INTC\n",
    "# HP = HPQ\n",
    "# Facebook = FB\n",
    "# Cisco Systems = CSCO\n",
    "# Oracle = ORCL\n",
    "# HP Enterprise = HPE\n",
    "# Micron Tech = MU\n",
    "# DXC Tech = DXC\n",
    "# Thermo Fisher Scientific = TMO\n",
    "stockSymbol = [\"AAPL\", \"AMZN\", \"GOOGL\",\"MSFT\", \"DELL\", \"IBM\", \"INTC\", \"HPQ\",\n",
    "               \"FB\", \"CSCO\", \"ORCL\", \"HPE\", \"MU\", \"DXC\", \"TMO\"]"
   ]
  },
  {
   "cell_type": "code",
   "execution_count": 32,
   "metadata": {},
   "outputs": [
    {
     "data": {
      "text/plain": [
       "'C:\\\\Users\\\\Russell\\\\OneDrive - Marist College\\\\School\\\\Spring 2020\\\\DATA 450 Data Capping\\\\Repository\\\\data\\\\StockTwits'"
      ]
     },
     "execution_count": 32,
     "metadata": {},
     "output_type": "execute_result"
    }
   ],
   "source": [
    "#This gets the parent directory of the current directory\n",
    "current = os.getcwd()\n",
    "path = Path(current)\n",
    "twits_folder = str(path.parent)+'\\\\data\\\\StockTwits'\n",
    "twits_folder"
   ]
  },
  {
   "cell_type": "code",
   "execution_count": 33,
   "metadata": {},
   "outputs": [],
   "source": [
    "#Gathers the json file and all needed data values.\n",
    "def collect_New_Twits(res):\n",
    "    try:\n",
    "        \n",
    "        #\n",
    "        df = (json_normalize(res['messages'])[{'id','body','created_at','entities.sentiment.basic','symbols'}])\n",
    "        \n",
    "        #Reorders the columns\n",
    "        df = df[['id','body','created_at','entities.sentiment.basic','symbols']]\n",
    "        \n",
    "        #Renames the columns\n",
    "        df = df.rename(columns = {'created_at':'created', 'entities.sentiment.basic': 'tag'})\n",
    "        \n",
    "    except:\n",
    "        df = (json_normalize(res['messages'])[{'id','body','created_at','entities.sentiment','symbols'}])\n",
    "               \n",
    "        #Reorders the columns and gets rid of old symbols column\n",
    "        df = df[['id','body','created_at','entities.sentiment', 'symbols']]\n",
    "        \n",
    "        #Renames the columns\n",
    "        df = df.rename(columns = {'created_at':'created', 'entities.sentiment': 'tag'})\n",
    "        \n",
    "\n",
    "    #The following loops reformat the symbols column\n",
    "    #It creates a list of dictionaries, {symbol: \"symbol of company mentioned\", title: \"name of company\"}\n",
    "    dataList=[]\n",
    "    \n",
    "    for index in df['symbols']:\n",
    "        symbolsList = []\n",
    "\n",
    "        for diction in index:\n",
    "\n",
    "            symbolsList.append({'symbol' : diction.get('symbol'), 'title' : diction.get('title')})\n",
    "            \n",
    "        dataList.append(symbolsList)\n",
    "        \n",
    "    df.insert(5, \"newSymbols\" ,dataList)\n",
    "    \n",
    "    df = df[['id','body','created','tag', 'newSymbols']]\n",
    "    \n",
    "    df = remove_emojis(df)\n",
    "\n",
    "    #Replaces the NAN with a string \"none\"\n",
    "    df = df.replace(np.nan, 'none', regex=True)\n",
    "    \n",
    "    #Replaces the string as a datetime variable\n",
    "    dateFormat = \"%Y-%m-%dT%H:%M:%SZ\"\n",
    "    df['created'] = pd.to_datetime(df['created'], format=dateFormat)\n",
    "    \n",
    "    #returns the dataframe in correct format\n",
    "    return df"
   ]
  },
  {
   "cell_type": "code",
   "execution_count": 34,
   "metadata": {},
   "outputs": [],
   "source": [
    "##This function takes a Stocktwits dataframe and removes the emojis from the twit.\n",
    "#This function then returns a dataframe with an extra column for the twit without emojis\n",
    "def remove_emojis(dataframe):\n",
    "    cleanSentList=[]\n",
    "    \n",
    "    for row in dataframe.body:\n",
    "        cleanSentList.append(demoji.replace(row))\n",
    "        \n",
    "    dataframe.insert(5, 'cleanSents', cleanSentList)\n",
    "    \n",
    "    dataframe = dataframe[['id', 'cleanSents', 'created','tag', 'newSymbols']]\n",
    "    \n",
    "    return dataframe"
   ]
  },
  {
   "cell_type": "code",
   "execution_count": null,
   "metadata": {},
   "outputs": [
    {
     "name": "stderr",
     "output_type": "stream",
     "text": [
      "c:\\users\\russell\\appdata\\local\\programs\\python\\python37\\lib\\site-packages\\ipykernel_launcher.py:6: FutureWarning: pandas.io.json.json_normalize is deprecated, use pandas.json_normalize instead\n",
      "  \n"
     ]
    }
   ],
   "source": [
    "while True:\n",
    "    for symbol in stockSymbol:\n",
    "    \n",
    "        #selects the file to add to\n",
    "        file = twits_folder+'\\\\{}_twits.csv'.format(symbol)\n",
    "    \n",
    "        historicalTwits = pd.read_csv(file)\n",
    "        newestID = historicalTwits['id'].iloc[0]\n",
    "    \n",
    "        url = \"https://api.stocktwits.com/api/2/streams/symbol/{}.json\".format(symbol)\n",
    "        response = requests.get(url, params = {'since' : newestID}).json()\n",
    "        \n",
    "        if response['response']['status'] == 429:\n",
    "            print(\"requests exceeded\")\n",
    "            time.sleep(600)\n",
    "            continue\n",
    "        \n",
    "        #if not (response['cursor']['more']):\n",
    "        #    stockSymbol.remove(symbol)\n",
    "        #    continue\n",
    "    \n",
    "        tempTwitsDf = collect_New_Twits(response)\n",
    "\n",
    "        newHistoricalTwits = tempTwitsDf.append(historicalTwits)\n",
    "    \n",
    "        newHistoricalTwits.to_csv(file, index=False)\n",
    "        time.sleep(15)\n",
    "        #newHistoricalTwits.to_csv(r'{}_twitsCopy.csv'.format(symbol), index=False)\n",
    "        time.sleep(15)"
   ]
  },
  {
   "cell_type": "code",
   "execution_count": 9,
   "metadata": {},
   "outputs": [
    {
     "data": {
      "text/plain": [
       "'C:\\\\Users\\\\Russell\\\\OneDrive - Marist College\\\\School\\\\Spring 2020\\\\DATA 450 Data Capping\\\\Repository\\\\data\\\\StockTwits'"
      ]
     },
     "execution_count": 9,
     "metadata": {},
     "output_type": "execute_result"
    }
   ],
   "source": [
    "twits_folder"
   ]
  },
  {
   "cell_type": "code",
   "execution_count": 29,
   "metadata": {},
   "outputs": [],
   "source": [
    "file = twits_folder+'\\\\{}_twits.csv'.format(\"INTC\")\n",
    "intelDF = pd.read_csv('https://raw.githubusercontent.com/rsbmarist/MaristYoungMen2020/master/data/StockTwits/INTC_twits.csv')"
   ]
  },
  {
   "cell_type": "code",
   "execution_count": 32,
   "metadata": {},
   "outputs": [],
   "source": [
    "intelDF.to_csv(file, index=False)"
   ]
  },
  {
   "cell_type": "code",
   "execution_count": 22,
   "metadata": {},
   "outputs": [],
   "source": [
    "#Without Apple because I tested the code on Apple already\n",
    "#stockSymbol = [\"AMZN\", \"GOOGL\",\"MSFT\", \"DELL\", \"IBM\", \"INTC\", \"HPQ\",\n",
    "#               \"FB\", \"CSCO\", \"ORCL\", \"HPE\", \"MU\", \"DXC\", \"TMO\"]"
   ]
  },
  {
   "cell_type": "code",
   "execution_count": 23,
   "metadata": {},
   "outputs": [],
   "source": [
    "#Want to add a column with a clean twit\n",
    "for symbol in stockSymbol:\n",
    "    \n",
    "        #selects the file to add to\n",
    "    file = twits_folder+'\\\\{}_twits.csv'.format(symbol)\n",
    "    \n",
    "    historicalTwits = pd.read_csv(file)\n",
    "\n",
    "    noEmojisDF = remove_emojis(historicalTwits)\n",
    "    \n",
    "    noEmojisDF = noEmojisDF[['id', 'cleanSents', 'created','tag', 'newSymbols']]\n",
    "    \n",
    "    noEmojisDF.to_csv(file, index=False)"
   ]
  },
  {
   "cell_type": "code",
   "execution_count": 16,
   "metadata": {},
   "outputs": [],
   "source": [
    "noEmojisDF.to_csv(file, index=False)"
   ]
  },
  {
   "cell_type": "code",
   "execution_count": 19,
   "metadata": {},
   "outputs": [
    {
     "data": {
      "text/plain": [
       "0        $CSCO  I would rather buy Cisco vs the rest of...\n",
       "1        $AAPL great traders on here higher on below av...\n",
       "2        $QCOM $AAPL \\nHave u watched Korean movies or ...\n",
       "3        $AAPL waiting waiting; for 330! I got all day ...\n",
       "4        $AAPL This Pump today has my 330 calls fully E...\n",
       "                               ...                        \n",
       "90414    $AAPL THe BEST stock on this planet! $$$$$$$$$...\n",
       "90415        $SPY $AMD $AAPL $JPM whats a monthly candle? \n",
       "90416    $FB lowest value among fang stocks.  Sell $AAP...\n",
       "90417                               $AAPL  not sustainable\n",
       "90418    $AAPL 4 Green weekly candles. Hasn&#39;t had m...\n",
       "Name: cleanSents, Length: 90419, dtype: object"
      ]
     },
     "execution_count": 19,
     "metadata": {},
     "output_type": "execute_result"
    }
   ],
   "source": [
    "noEmojisDF.cleanSents"
   ]
  },
  {
   "cell_type": "code",
   "execution_count": 21,
   "metadata": {},
   "outputs": [
    {
     "data": {
      "text/html": [
       "<div>\n",
       "<style scoped>\n",
       "    .dataframe tbody tr th:only-of-type {\n",
       "        vertical-align: middle;\n",
       "    }\n",
       "\n",
       "    .dataframe tbody tr th {\n",
       "        vertical-align: top;\n",
       "    }\n",
       "\n",
       "    .dataframe thead th {\n",
       "        text-align: right;\n",
       "    }\n",
       "</style>\n",
       "<table border=\"1\" class=\"dataframe\">\n",
       "  <thead>\n",
       "    <tr style=\"text-align: right;\">\n",
       "      <th></th>\n",
       "      <th>id</th>\n",
       "      <th>cleanSents</th>\n",
       "      <th>created</th>\n",
       "      <th>tag</th>\n",
       "      <th>newSymbols</th>\n",
       "    </tr>\n",
       "  </thead>\n",
       "  <tbody>\n",
       "    <tr>\n",
       "      <th>0</th>\n",
       "      <td>194642803</td>\n",
       "      <td>$CSCO  I would rather buy Cisco vs the rest of...</td>\n",
       "      <td>2020-02-12 21:59:02</td>\n",
       "      <td>none</td>\n",
       "      <td>[{'symbol': 'AAPL', 'title': 'Apple Inc.'}, {'...</td>\n",
       "    </tr>\n",
       "    <tr>\n",
       "      <th>1</th>\n",
       "      <td>194642760</td>\n",
       "      <td>$AAPL great traders on here higher on below av...</td>\n",
       "      <td>2020-02-12 21:58:51</td>\n",
       "      <td>Bearish</td>\n",
       "      <td>[{'symbol': 'AAPL', 'title': 'Apple Inc.'}]</td>\n",
       "    </tr>\n",
       "    <tr>\n",
       "      <th>2</th>\n",
       "      <td>194642633</td>\n",
       "      <td>$QCOM $AAPL \\nHave u watched Korean movies or ...</td>\n",
       "      <td>2020-02-12 21:58:19</td>\n",
       "      <td>none</td>\n",
       "      <td>[{'symbol': 'AAPL', 'title': 'Apple Inc.'}, {'...</td>\n",
       "    </tr>\n",
       "    <tr>\n",
       "      <th>3</th>\n",
       "      <td>194642618</td>\n",
       "      <td>$AAPL waiting waiting; for 330! I got all day ...</td>\n",
       "      <td>2020-02-12 21:58:15</td>\n",
       "      <td>none</td>\n",
       "      <td>[{'symbol': 'AAPL', 'title': 'Apple Inc.'}]</td>\n",
       "    </tr>\n",
       "    <tr>\n",
       "      <th>4</th>\n",
       "      <td>194642405</td>\n",
       "      <td>$AAPL This Pump today has my 330 calls fully E...</td>\n",
       "      <td>2020-02-12 21:57:24</td>\n",
       "      <td>none</td>\n",
       "      <td>[{'symbol': 'AAPL', 'title': 'Apple Inc.'}]</td>\n",
       "    </tr>\n",
       "    <tr>\n",
       "      <th>...</th>\n",
       "      <td>...</td>\n",
       "      <td>...</td>\n",
       "      <td>...</td>\n",
       "      <td>...</td>\n",
       "      <td>...</td>\n",
       "    </tr>\n",
       "    <tr>\n",
       "      <th>90414</th>\n",
       "      <td>182248130</td>\n",
       "      <td>$AAPL THe BEST stock on this planet! $$$$$$$$$...</td>\n",
       "      <td>2019-11-01 17:40:39</td>\n",
       "      <td>Bullish</td>\n",
       "      <td>[{'symbol': 'AAPL', 'title': 'Apple Inc.'}]</td>\n",
       "    </tr>\n",
       "    <tr>\n",
       "      <th>90415</th>\n",
       "      <td>182248110</td>\n",
       "      <td>$SPY $AMD $AAPL $JPM whats a monthly candle?</td>\n",
       "      <td>2019-11-01 17:40:26</td>\n",
       "      <td>none</td>\n",
       "      <td>[{'symbol': 'AAPL', 'title': 'Apple Inc.'}, {'...</td>\n",
       "    </tr>\n",
       "    <tr>\n",
       "      <th>90416</th>\n",
       "      <td>182247963</td>\n",
       "      <td>$FB lowest value among fang stocks.  Sell $AAP...</td>\n",
       "      <td>2019-11-01 17:39:30</td>\n",
       "      <td>Bullish</td>\n",
       "      <td>[{'symbol': 'AAPL', 'title': 'Apple Inc.'}, {'...</td>\n",
       "    </tr>\n",
       "    <tr>\n",
       "      <th>90417</th>\n",
       "      <td>182247807</td>\n",
       "      <td>$AAPL  not sustainable</td>\n",
       "      <td>2019-11-01 17:38:32</td>\n",
       "      <td>Bearish</td>\n",
       "      <td>[{'symbol': 'AAPL', 'title': 'Apple Inc.'}]</td>\n",
       "    </tr>\n",
       "    <tr>\n",
       "      <th>90418</th>\n",
       "      <td>182247789</td>\n",
       "      <td>$AAPL 4 Green weekly candles. Hasn&amp;#39;t had m...</td>\n",
       "      <td>2019-11-01 17:38:27</td>\n",
       "      <td>Bearish</td>\n",
       "      <td>[{'symbol': 'AAPL', 'title': 'Apple Inc.'}]</td>\n",
       "    </tr>\n",
       "  </tbody>\n",
       "</table>\n",
       "<p>90419 rows × 5 columns</p>\n",
       "</div>"
      ],
      "text/plain": [
       "              id                                         cleanSents  \\\n",
       "0      194642803  $CSCO  I would rather buy Cisco vs the rest of...   \n",
       "1      194642760  $AAPL great traders on here higher on below av...   \n",
       "2      194642633  $QCOM $AAPL \\nHave u watched Korean movies or ...   \n",
       "3      194642618  $AAPL waiting waiting; for 330! I got all day ...   \n",
       "4      194642405  $AAPL This Pump today has my 330 calls fully E...   \n",
       "...          ...                                                ...   \n",
       "90414  182248130  $AAPL THe BEST stock on this planet! $$$$$$$$$...   \n",
       "90415  182248110      $SPY $AMD $AAPL $JPM whats a monthly candle?    \n",
       "90416  182247963  $FB lowest value among fang stocks.  Sell $AAP...   \n",
       "90417  182247807                             $AAPL  not sustainable   \n",
       "90418  182247789  $AAPL 4 Green weekly candles. Hasn&#39;t had m...   \n",
       "\n",
       "                   created      tag  \\\n",
       "0      2020-02-12 21:59:02     none   \n",
       "1      2020-02-12 21:58:51  Bearish   \n",
       "2      2020-02-12 21:58:19     none   \n",
       "3      2020-02-12 21:58:15     none   \n",
       "4      2020-02-12 21:57:24     none   \n",
       "...                    ...      ...   \n",
       "90414  2019-11-01 17:40:39  Bullish   \n",
       "90415  2019-11-01 17:40:26     none   \n",
       "90416  2019-11-01 17:39:30  Bullish   \n",
       "90417  2019-11-01 17:38:32  Bearish   \n",
       "90418  2019-11-01 17:38:27  Bearish   \n",
       "\n",
       "                                              newSymbols  \n",
       "0      [{'symbol': 'AAPL', 'title': 'Apple Inc.'}, {'...  \n",
       "1            [{'symbol': 'AAPL', 'title': 'Apple Inc.'}]  \n",
       "2      [{'symbol': 'AAPL', 'title': 'Apple Inc.'}, {'...  \n",
       "3            [{'symbol': 'AAPL', 'title': 'Apple Inc.'}]  \n",
       "4            [{'symbol': 'AAPL', 'title': 'Apple Inc.'}]  \n",
       "...                                                  ...  \n",
       "90414        [{'symbol': 'AAPL', 'title': 'Apple Inc.'}]  \n",
       "90415  [{'symbol': 'AAPL', 'title': 'Apple Inc.'}, {'...  \n",
       "90416  [{'symbol': 'AAPL', 'title': 'Apple Inc.'}, {'...  \n",
       "90417        [{'symbol': 'AAPL', 'title': 'Apple Inc.'}]  \n",
       "90418        [{'symbol': 'AAPL', 'title': 'Apple Inc.'}]  \n",
       "\n",
       "[90419 rows x 5 columns]"
      ]
     },
     "execution_count": 21,
     "metadata": {},
     "output_type": "execute_result"
    }
   ],
   "source": [
    "historicalTwits"
   ]
  },
  {
   "cell_type": "code",
   "execution_count": null,
   "metadata": {},
   "outputs": [],
   "source": []
  }
 ],
 "metadata": {
  "kernelspec": {
   "display_name": "Python 3",
   "language": "python",
   "name": "python3"
  },
  "language_info": {
   "codemirror_mode": {
    "name": "ipython",
    "version": 3
   },
   "file_extension": ".py",
   "mimetype": "text/x-python",
   "name": "python",
   "nbconvert_exporter": "python",
   "pygments_lexer": "ipython3",
   "version": "3.7.6"
  }
 },
 "nbformat": 4,
 "nbformat_minor": 2
}
