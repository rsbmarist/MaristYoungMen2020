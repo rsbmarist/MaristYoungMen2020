{
 "cells": [
  {
   "cell_type": "code",
   "execution_count": 26,
   "metadata": {},
   "outputs": [],
   "source": [
    "# The stock Symbols that we will iterate through\n",
    "# Apple = AAPL\n",
    "# Amazon = AMZN\n",
    "# Google = GOOGL\n",
    "# Microsoft = MSFT\n",
    "# Dell = DELL\n",
    "# IBM = IBM\n",
    "# Intel = INTC\n",
    "# HP = HPQ\n",
    "# Facebook = FB\n",
    "# Cisco Systems = CSCO\n",
    "# Oracle = ORCL\n",
    "# HP Enterprise = HPE\n",
    "# Micron Tech = MU\n",
    "# DXC Tech = DXC\n",
    "# Thermo Fisher Scientific = TMO\n",
    "\n",
    "# Qualcomm = QCOM\n",
    "# Jabil = JBL\n",
    "# Broadcom = AVGO\n",
    "# Western Digital = WDC\n",
    "# Applied Materials = AMAT\n",
    "\n",
    "\n",
    "# Tesla = TSLA\n",
    "# Alibaba = BABA\n",
    "# Nvidia = NVDA\n",
    "# Walmart = WMT\n",
    "# Walt Disney = DIS\n",
    "stockSymbol = [\"AAPL\", \"AMZN\", \"GOOGL\",\"MSFT\", \"DELL\", \"IBM\", \"INTC\", \"HPQ\",\n",
    "               \"FB\", \"CSCO\", \"ORCL\", \"HPE\", \"MU\", \"DXC\", \"TMO\"]"
   ]
  },
  {
   "cell_type": "code",
   "execution_count": 27,
   "metadata": {},
   "outputs": [
    {
     "name": "stdout",
     "output_type": "stream",
     "text": [
      "\u001b[33mDownloading emoji data ...\u001b[0m\n",
      "\u001b[92m... OK\u001b[0m (Got response in 0.25 seconds)\n",
      "\u001b[33mWriting emoji data to C:\\Users\\Russell\\.demoji/codes.json ...\u001b[0m\n",
      "\u001b[92m... OK\u001b[0m\n"
     ]
    }
   ],
   "source": [
    "#Import statements\n",
    "import json\n",
    "from pandas.io.json import json_normalize\n",
    "from pathlib import Path\n",
    "import requests\n",
    "import pandas as pd\n",
    "import datetime\n",
    "import os\n",
    "import csv\n",
    "import time\n",
    "import ast\n",
    "import re\n",
    "import demoji\n",
    "demoji.download_codes()"
   ]
  },
  {
   "cell_type": "code",
   "execution_count": 35,
   "metadata": {},
   "outputs": [],
   "source": [
    "url = \"https://api.stocktwits.com/api/2/streams/symbol/{}.json\".format('DXC')\n",
    "response = requests.get(url, params = {'since' : 195629781}).json()"
   ]
  },
  {
   "cell_type": "code",
   "execution_count": 36,
   "metadata": {},
   "outputs": [
    {
     "data": {
      "text/plain": [
       "{'response': {'status': 200},\n",
       " 'symbol': {'id': 13459,\n",
       "  'symbol': 'DXC',\n",
       "  'title': 'DXC Technology Rg',\n",
       "  'aliases': [],\n",
       "  'is_following': False,\n",
       "  'watchlist_count': 1456},\n",
       " 'cursor': {'more': False, 'since': None, 'max': None},\n",
       " 'messages': []}"
      ]
     },
     "execution_count": 36,
     "metadata": {},
     "output_type": "execute_result"
    }
   ],
   "source": [
    "response"
   ]
  },
  {
   "cell_type": "code",
   "execution_count": 4,
   "metadata": {},
   "outputs": [],
   "source": [
    "dataframe = json_normalize(response['messages'])[{'body', 'id', 'symbols'}]"
   ]
  },
  {
   "cell_type": "code",
   "execution_count": 5,
   "metadata": {},
   "outputs": [
    {
     "name": "stdout",
     "output_type": "stream",
     "text": [
      "<class 'list'>\n"
     ]
    },
    {
     "data": {
      "text/plain": [
       "0    [{'id': 686, 'symbol': 'AAPL', 'title': 'Apple...\n",
       "Name: symbols, dtype: object"
      ]
     },
     "execution_count": 5,
     "metadata": {},
     "output_type": "execute_result"
    }
   ],
   "source": [
    "print(type(dataframe['symbols'][0]))\n",
    "dataframe['symbols'].head(1)"
   ]
  },
  {
   "cell_type": "code",
   "execution_count": null,
   "metadata": {},
   "outputs": [],
   "source": [
    "s = pd.Series(['A', 'B', 'C'])\n",
    "for index in s.items():\n",
    "    print(f\"Index : {index}, Value : {value}\")"
   ]
  },
  {
   "cell_type": "code",
   "execution_count": 2,
   "metadata": {},
   "outputs": [
    {
     "data": {
      "text/plain": [
       "'C:\\\\Users\\\\Russell\\\\OneDrive - Marist College\\\\School\\\\Spring 2020\\\\DATA 450 Data Capping\\\\Repository\\\\data\\\\StockTwits'"
      ]
     },
     "execution_count": 2,
     "metadata": {},
     "output_type": "execute_result"
    }
   ],
   "source": [
    "#This gets the parent directory of the current directory\n",
    "current = os.getcwd()\n",
    "path = Path(current)\n",
    "twits_folder = str(path.parent)+'\\\\data\\\\StockTwits'\n",
    "twits_folder"
   ]
  },
  {
   "cell_type": "code",
   "execution_count": 6,
   "metadata": {},
   "outputs": [],
   "source": [
    "file = twits_folder+'\\\\AAPL_twits.csv'\n",
    "dataFrame = pd.read_csv(file)"
   ]
  },
  {
   "cell_type": "code",
   "execution_count": 12,
   "metadata": {},
   "outputs": [
    {
     "ename": "IndexError",
     "evalue": "index 6 is out of bounds for axis 0 with size 5",
     "output_type": "error",
     "traceback": [
      "\u001b[1;31m---------------------------------------------------------------------------\u001b[0m",
      "\u001b[1;31mIndexError\u001b[0m                                Traceback (most recent call last)",
      "\u001b[1;32m<ipython-input-12-ece62a6802d0>\u001b[0m in \u001b[0;36m<module>\u001b[1;34m\u001b[0m\n\u001b[0;32m      3\u001b[0m     \u001b[0msent\u001b[0m \u001b[1;33m=\u001b[0m \u001b[0mdemoji\u001b[0m\u001b[1;33m.\u001b[0m\u001b[0mreplace\u001b[0m\u001b[1;33m(\u001b[0m\u001b[0mrow\u001b[0m\u001b[1;33m)\u001b[0m\u001b[1;33m\u001b[0m\u001b[1;33m\u001b[0m\u001b[0m\n\u001b[0;32m      4\u001b[0m     \u001b[0msentsList\u001b[0m\u001b[1;33m.\u001b[0m\u001b[0mappend\u001b[0m\u001b[1;33m(\u001b[0m\u001b[0msent\u001b[0m\u001b[1;33m)\u001b[0m\u001b[1;33m\u001b[0m\u001b[1;33m\u001b[0m\u001b[0m\n\u001b[1;32m----> 5\u001b[1;33m \u001b[0mdataFrame\u001b[0m\u001b[1;33m.\u001b[0m\u001b[0minsert\u001b[0m\u001b[1;33m(\u001b[0m\u001b[1;36m6\u001b[0m\u001b[1;33m,\u001b[0m \u001b[1;34m'cleanSents'\u001b[0m\u001b[1;33m,\u001b[0m \u001b[0msentsList\u001b[0m\u001b[1;33m)\u001b[0m\u001b[1;33m\u001b[0m\u001b[1;33m\u001b[0m\u001b[0m\n\u001b[0m",
      "\u001b[1;32mc:\\users\\russell\\appdata\\local\\programs\\python\\python37\\lib\\site-packages\\pandas\\core\\frame.py\u001b[0m in \u001b[0;36minsert\u001b[1;34m(self, loc, column, value, allow_duplicates)\u001b[0m\n\u001b[0;32m   3491\u001b[0m         \u001b[0mself\u001b[0m\u001b[1;33m.\u001b[0m\u001b[0m_ensure_valid_index\u001b[0m\u001b[1;33m(\u001b[0m\u001b[0mvalue\u001b[0m\u001b[1;33m)\u001b[0m\u001b[1;33m\u001b[0m\u001b[1;33m\u001b[0m\u001b[0m\n\u001b[0;32m   3492\u001b[0m         \u001b[0mvalue\u001b[0m \u001b[1;33m=\u001b[0m \u001b[0mself\u001b[0m\u001b[1;33m.\u001b[0m\u001b[0m_sanitize_column\u001b[0m\u001b[1;33m(\u001b[0m\u001b[0mcolumn\u001b[0m\u001b[1;33m,\u001b[0m \u001b[0mvalue\u001b[0m\u001b[1;33m,\u001b[0m \u001b[0mbroadcast\u001b[0m\u001b[1;33m=\u001b[0m\u001b[1;32mFalse\u001b[0m\u001b[1;33m)\u001b[0m\u001b[1;33m\u001b[0m\u001b[1;33m\u001b[0m\u001b[0m\n\u001b[1;32m-> 3493\u001b[1;33m         \u001b[0mself\u001b[0m\u001b[1;33m.\u001b[0m\u001b[0m_data\u001b[0m\u001b[1;33m.\u001b[0m\u001b[0minsert\u001b[0m\u001b[1;33m(\u001b[0m\u001b[0mloc\u001b[0m\u001b[1;33m,\u001b[0m \u001b[0mcolumn\u001b[0m\u001b[1;33m,\u001b[0m \u001b[0mvalue\u001b[0m\u001b[1;33m,\u001b[0m \u001b[0mallow_duplicates\u001b[0m\u001b[1;33m=\u001b[0m\u001b[0mallow_duplicates\u001b[0m\u001b[1;33m)\u001b[0m\u001b[1;33m\u001b[0m\u001b[1;33m\u001b[0m\u001b[0m\n\u001b[0m\u001b[0;32m   3494\u001b[0m \u001b[1;33m\u001b[0m\u001b[0m\n\u001b[0;32m   3495\u001b[0m     \u001b[1;32mdef\u001b[0m \u001b[0massign\u001b[0m\u001b[1;33m(\u001b[0m\u001b[0mself\u001b[0m\u001b[1;33m,\u001b[0m \u001b[1;33m**\u001b[0m\u001b[0mkwargs\u001b[0m\u001b[1;33m)\u001b[0m \u001b[1;33m->\u001b[0m \u001b[1;34m\"DataFrame\"\u001b[0m\u001b[1;33m:\u001b[0m\u001b[1;33m\u001b[0m\u001b[1;33m\u001b[0m\u001b[0m\n",
      "\u001b[1;32mc:\\users\\russell\\appdata\\local\\programs\\python\\python37\\lib\\site-packages\\pandas\\core\\internals\\managers.py\u001b[0m in \u001b[0;36minsert\u001b[1;34m(self, loc, item, value, allow_duplicates)\u001b[0m\n\u001b[0;32m   1195\u001b[0m             \u001b[0mself\u001b[0m\u001b[1;33m.\u001b[0m\u001b[0m_blknos\u001b[0m \u001b[1;33m=\u001b[0m \u001b[0mnp\u001b[0m\u001b[1;33m.\u001b[0m\u001b[0mappend\u001b[0m\u001b[1;33m(\u001b[0m\u001b[0mself\u001b[0m\u001b[1;33m.\u001b[0m\u001b[0m_blknos\u001b[0m\u001b[1;33m,\u001b[0m \u001b[0mlen\u001b[0m\u001b[1;33m(\u001b[0m\u001b[0mself\u001b[0m\u001b[1;33m.\u001b[0m\u001b[0mblocks\u001b[0m\u001b[1;33m)\u001b[0m\u001b[1;33m)\u001b[0m\u001b[1;33m\u001b[0m\u001b[1;33m\u001b[0m\u001b[0m\n\u001b[0;32m   1196\u001b[0m         \u001b[1;32melse\u001b[0m\u001b[1;33m:\u001b[0m\u001b[1;33m\u001b[0m\u001b[1;33m\u001b[0m\u001b[0m\n\u001b[1;32m-> 1197\u001b[1;33m             \u001b[0mself\u001b[0m\u001b[1;33m.\u001b[0m\u001b[0m_blklocs\u001b[0m \u001b[1;33m=\u001b[0m \u001b[0mnp\u001b[0m\u001b[1;33m.\u001b[0m\u001b[0minsert\u001b[0m\u001b[1;33m(\u001b[0m\u001b[0mself\u001b[0m\u001b[1;33m.\u001b[0m\u001b[0m_blklocs\u001b[0m\u001b[1;33m,\u001b[0m \u001b[0mloc\u001b[0m\u001b[1;33m,\u001b[0m \u001b[1;36m0\u001b[0m\u001b[1;33m)\u001b[0m\u001b[1;33m\u001b[0m\u001b[1;33m\u001b[0m\u001b[0m\n\u001b[0m\u001b[0;32m   1198\u001b[0m             \u001b[0mself\u001b[0m\u001b[1;33m.\u001b[0m\u001b[0m_blknos\u001b[0m \u001b[1;33m=\u001b[0m \u001b[0mnp\u001b[0m\u001b[1;33m.\u001b[0m\u001b[0minsert\u001b[0m\u001b[1;33m(\u001b[0m\u001b[0mself\u001b[0m\u001b[1;33m.\u001b[0m\u001b[0m_blknos\u001b[0m\u001b[1;33m,\u001b[0m \u001b[0mloc\u001b[0m\u001b[1;33m,\u001b[0m \u001b[0mlen\u001b[0m\u001b[1;33m(\u001b[0m\u001b[0mself\u001b[0m\u001b[1;33m.\u001b[0m\u001b[0mblocks\u001b[0m\u001b[1;33m)\u001b[0m\u001b[1;33m)\u001b[0m\u001b[1;33m\u001b[0m\u001b[1;33m\u001b[0m\u001b[0m\n\u001b[0;32m   1199\u001b[0m \u001b[1;33m\u001b[0m\u001b[0m\n",
      "\u001b[1;32m<__array_function__ internals>\u001b[0m in \u001b[0;36minsert\u001b[1;34m(*args, **kwargs)\u001b[0m\n",
      "\u001b[1;32mc:\\users\\russell\\appdata\\local\\programs\\python\\python37\\lib\\site-packages\\numpy\\lib\\function_base.py\u001b[0m in \u001b[0;36minsert\u001b[1;34m(arr, obj, values, axis)\u001b[0m\n\u001b[0;32m   4575\u001b[0m             raise IndexError(\n\u001b[0;32m   4576\u001b[0m                 \u001b[1;34m\"index %i is out of bounds for axis %i with \"\u001b[0m\u001b[1;33m\u001b[0m\u001b[1;33m\u001b[0m\u001b[0m\n\u001b[1;32m-> 4577\u001b[1;33m                 \"size %i\" % (obj, axis, N))\n\u001b[0m\u001b[0;32m   4578\u001b[0m         \u001b[1;32mif\u001b[0m \u001b[1;33m(\u001b[0m\u001b[0mindex\u001b[0m \u001b[1;33m<\u001b[0m \u001b[1;36m0\u001b[0m\u001b[1;33m)\u001b[0m\u001b[1;33m:\u001b[0m\u001b[1;33m\u001b[0m\u001b[1;33m\u001b[0m\u001b[0m\n\u001b[0;32m   4579\u001b[0m             \u001b[0mindex\u001b[0m \u001b[1;33m+=\u001b[0m \u001b[0mN\u001b[0m\u001b[1;33m\u001b[0m\u001b[1;33m\u001b[0m\u001b[0m\n",
      "\u001b[1;31mIndexError\u001b[0m: index 6 is out of bounds for axis 0 with size 5"
     ]
    }
   ],
   "source": [
    "sentsList=[]\n",
    "for row in dataFrame['body']:\n",
    "    sent = demoji.replace(row)\n",
    "    sentsList.append(sent)\n"
   ]
  },
  {
   "cell_type": "code",
   "execution_count": 13,
   "metadata": {},
   "outputs": [],
   "source": [
    "dataFrame.insert(5, 'cleanSents', sentsList)"
   ]
  },
  {
   "cell_type": "code",
   "execution_count": 25,
   "metadata": {},
   "outputs": [
    {
     "data": {
      "text/html": [
       "<div>\n",
       "<style scoped>\n",
       "    .dataframe tbody tr th:only-of-type {\n",
       "        vertical-align: middle;\n",
       "    }\n",
       "\n",
       "    .dataframe tbody tr th {\n",
       "        vertical-align: top;\n",
       "    }\n",
       "\n",
       "    .dataframe thead th {\n",
       "        text-align: right;\n",
       "    }\n",
       "</style>\n",
       "<table border=\"1\" class=\"dataframe\">\n",
       "  <thead>\n",
       "    <tr style=\"text-align: right;\">\n",
       "      <th></th>\n",
       "      <th>cleanSents</th>\n",
       "      <th>body</th>\n",
       "    </tr>\n",
       "  </thead>\n",
       "  <tbody>\n",
       "    <tr>\n",
       "      <th>0</th>\n",
       "      <td>$CSCO  I would rather buy Cisco vs the rest of...</td>\n",
       "      <td>$CSCO  I would rather buy Cisco vs the rest of...</td>\n",
       "    </tr>\n",
       "    <tr>\n",
       "      <th>1</th>\n",
       "      <td>$AAPL great traders on here higher on below av...</td>\n",
       "      <td>$AAPL great traders on here higher on below av...</td>\n",
       "    </tr>\n",
       "    <tr>\n",
       "      <th>2</th>\n",
       "      <td>$QCOM $AAPL \\nHave u watched Korean movies or ...</td>\n",
       "      <td>$QCOM $AAPL \\nHave u watched Korean movies or ...</td>\n",
       "    </tr>\n",
       "    <tr>\n",
       "      <th>3</th>\n",
       "      <td>$AAPL waiting waiting; for 330! I got all day ...</td>\n",
       "      <td>$AAPL waiting waiting; for 330! I got all day ...</td>\n",
       "    </tr>\n",
       "    <tr>\n",
       "      <th>4</th>\n",
       "      <td>$AAPL This Pump today has my 330 calls fully E...</td>\n",
       "      <td>$AAPL This Pump today has my 330 calls fully E...</td>\n",
       "    </tr>\n",
       "    <tr>\n",
       "      <th>...</th>\n",
       "      <td>...</td>\n",
       "      <td>...</td>\n",
       "    </tr>\n",
       "    <tr>\n",
       "      <th>90414</th>\n",
       "      <td>$AAPL THe BEST stock on this planet! $$$$$$$$$...</td>\n",
       "      <td>$AAPL THe BEST stock on this planet! $$$$$$$$$...</td>\n",
       "    </tr>\n",
       "    <tr>\n",
       "      <th>90415</th>\n",
       "      <td>$SPY $AMD $AAPL $JPM whats a monthly candle?</td>\n",
       "      <td>$SPY $AMD $AAPL $JPM whats a monthly candle? ❤️</td>\n",
       "    </tr>\n",
       "    <tr>\n",
       "      <th>90416</th>\n",
       "      <td>$FB lowest value among fang stocks.  Sell $AAP...</td>\n",
       "      <td>$FB lowest value among fang stocks.  Sell $AAP...</td>\n",
       "    </tr>\n",
       "    <tr>\n",
       "      <th>90417</th>\n",
       "      <td>$AAPL  not sustainable</td>\n",
       "      <td>$AAPL  not sustainable</td>\n",
       "    </tr>\n",
       "    <tr>\n",
       "      <th>90418</th>\n",
       "      <td>$AAPL 4 Green weekly candles. Hasn&amp;#39;t had m...</td>\n",
       "      <td>$AAPL 4 Green weekly candles. Hasn&amp;#39;t had m...</td>\n",
       "    </tr>\n",
       "  </tbody>\n",
       "</table>\n",
       "<p>90419 rows × 2 columns</p>\n",
       "</div>"
      ],
      "text/plain": [
       "                                              cleanSents  \\\n",
       "0      $CSCO  I would rather buy Cisco vs the rest of...   \n",
       "1      $AAPL great traders on here higher on below av...   \n",
       "2      $QCOM $AAPL \\nHave u watched Korean movies or ...   \n",
       "3      $AAPL waiting waiting; for 330! I got all day ...   \n",
       "4      $AAPL This Pump today has my 330 calls fully E...   \n",
       "...                                                  ...   \n",
       "90414  $AAPL THe BEST stock on this planet! $$$$$$$$$...   \n",
       "90415      $SPY $AMD $AAPL $JPM whats a monthly candle?    \n",
       "90416  $FB lowest value among fang stocks.  Sell $AAP...   \n",
       "90417                             $AAPL  not sustainable   \n",
       "90418  $AAPL 4 Green weekly candles. Hasn&#39;t had m...   \n",
       "\n",
       "                                                    body  \n",
       "0      $CSCO  I would rather buy Cisco vs the rest of...  \n",
       "1      $AAPL great traders on here higher on below av...  \n",
       "2      $QCOM $AAPL \\nHave u watched Korean movies or ...  \n",
       "3      $AAPL waiting waiting; for 330! I got all day ...  \n",
       "4      $AAPL This Pump today has my 330 calls fully E...  \n",
       "...                                                  ...  \n",
       "90414  $AAPL THe BEST stock on this planet! $$$$$$$$$...  \n",
       "90415    $SPY $AMD $AAPL $JPM whats a monthly candle? ❤️  \n",
       "90416  $FB lowest value among fang stocks.  Sell $AAP...  \n",
       "90417                             $AAPL  not sustainable  \n",
       "90418  $AAPL 4 Green weekly candles. Hasn&#39;t had m...  \n",
       "\n",
       "[90419 rows x 2 columns]"
      ]
     },
     "execution_count": 25,
     "metadata": {},
     "output_type": "execute_result"
    }
   ],
   "source": [
    "dataFrame[{'body', 'cleanSents'}]"
   ]
  },
  {
   "cell_type": "code",
   "execution_count": 45,
   "metadata": {},
   "outputs": [],
   "source": [
    "#this code is able to grab only the symbol and title of all tagged companies and add it to a new column\n",
    "for symbol in stockSymbol:\n",
    "    \n",
    "    file = twits_folder+\"\\\\{}_twits.csv\".format(symbol)\n",
    "    \n",
    "    dataFrameTwits = pd.read_csv(file)\n",
    "    \n",
    "    dataFrameTwits.dropna(how='all')\n",
    "    \n",
    "    #dataList=[]\n",
    "    \n",
    "    while False:\n",
    "        for index in dataFrameTwits['symbols']:\n",
    "            if index is Nan:\n",
    "                print('none')\n",
    "\n",
    "            symbolsList = []\n",
    "\n",
    "            row = ast.literal_eval(index)\n",
    "\n",
    "            for diction in row:\n",
    "\n",
    "                symbolsList.append({'symbol' : diction.get('symbol'), 'title' : diction.get('title')})\n",
    "\n",
    "            dataList.append(symbolsList)\n",
    "\n",
    "        dataFrameTwits.insert(5, \"newSymbols\" ,dataList)\n",
    "        dataFrameTwits = dataFrameTwits[['id','body','created','tag', 'newSymbols']]\n",
    "    dataFrameTwits.to_csv(file, index = False)"
   ]
  },
  {
   "cell_type": "code",
   "execution_count": 16,
   "metadata": {},
   "outputs": [],
   "source": [
    "file = twits_folder+\"\\\\{}_twits.csv\".format('AAPL')\n",
    "symbolsFrame = pd.read_csv(file)\n",
    "symbolsList=[]\n",
    "for item in symbolsFrame['newSymbols']:\n",
    "    symbolsList.append(ast.literal_eval(item))"
   ]
  },
  {
   "cell_type": "code",
   "execution_count": 20,
   "metadata": {},
   "outputs": [],
   "source": [
    "with open(twits_folder+'\\\\AAPL_symbols','w') as f:\n",
    "    json.dump(symbolsList, f)"
   ]
  },
  {
   "cell_type": "code",
   "execution_count": 31,
   "metadata": {},
   "outputs": [
    {
     "data": {
      "text/plain": [
       "'$AAPL 16 buys for every three sells\\n'"
      ]
     },
     "execution_count": 31,
     "metadata": {},
     "output_type": "execute_result"
    }
   ],
   "source": [
    "remove_emoji(symbolsFrame['body'][35340])"
   ]
  },
  {
   "cell_type": "code",
   "execution_count": 24,
   "metadata": {},
   "outputs": [],
   "source": [
    "# https://stackoverflow.com/a/49146722/330558\n",
    "def remove_emoji(string):\n",
    "    emoji_pattern = re.compile(\"[\"\n",
    "                           u\"\\U0001F600-\\U0001F64F\"  # emoticons\n",
    "                           u\"\\U0001F300-\\U0001F5FF\"  # symbols & pictographs\n",
    "                           u\"\\U0001F680-\\U0001F6FF\"  # transport & map symbols\n",
    "                           u\"\\U0001F1E0-\\U0001F1FF\"  # flags (iOS)\n",
    "                           u\"\\U00002702-\\U000027B0\"\n",
    "                           u\"\\U000024C2-\\U0001F251\"\n",
    "                           \"]+\", flags=re.UNICODE)\n",
    "    return emoji_pattern.sub(r'', string)"
   ]
  },
  {
   "cell_type": "code",
   "execution_count": 30,
   "metadata": {},
   "outputs": [
    {
     "data": {
      "text/plain": [
       "'$AAPL 16 buys for every three sells\\n💰🍎💰🇺🇸'"
      ]
     },
     "execution_count": 30,
     "metadata": {},
     "output_type": "execute_result"
    }
   ],
   "source": [
    "symbolsFrame['body'][35340]"
   ]
  },
  {
   "cell_type": "code",
   "execution_count": 17,
   "metadata": {},
   "outputs": [
    {
     "data": {
      "text/html": [
       "<div>\n",
       "<style scoped>\n",
       "    .dataframe tbody tr th:only-of-type {\n",
       "        vertical-align: middle;\n",
       "    }\n",
       "\n",
       "    .dataframe tbody tr th {\n",
       "        vertical-align: top;\n",
       "    }\n",
       "\n",
       "    .dataframe thead th {\n",
       "        text-align: right;\n",
       "    }\n",
       "</style>\n",
       "<table border=\"1\" class=\"dataframe\">\n",
       "  <thead>\n",
       "    <tr style=\"text-align: right;\">\n",
       "      <th></th>\n",
       "      <th>id</th>\n",
       "      <th>tag</th>\n",
       "      <th>created</th>\n",
       "      <th>newSymbols</th>\n",
       "      <th>body</th>\n",
       "    </tr>\n",
       "  </thead>\n",
       "  <tbody>\n",
       "    <tr>\n",
       "      <th>0</th>\n",
       "      <td>194205182</td>\n",
       "      <td>Bullish</td>\n",
       "      <td>2020-02-10 19:29:18</td>\n",
       "      <td>[{'symbol': 'ILMN', 'title': 'Illumina Inc.'},...</td>\n",
       "      <td>$BNGO Here&amp;#39;s a perfect example on why most...</td>\n",
       "    </tr>\n",
       "    <tr>\n",
       "      <th>1</th>\n",
       "      <td>194188267</td>\n",
       "      <td>none</td>\n",
       "      <td>2020-02-10 18:12:08</td>\n",
       "      <td>[{'symbol': 'TER', 'title': 'Teradyne Inc.'}, ...</td>\n",
       "      <td>Feasible portfolio: Teradyne($TER), Thermo Fis...</td>\n",
       "    </tr>\n",
       "    <tr>\n",
       "      <th>2</th>\n",
       "      <td>194185981</td>\n",
       "      <td>none</td>\n",
       "      <td>2020-02-10 18:01:02</td>\n",
       "      <td>[{'symbol': 'TMO', 'title': 'Thermo Fisher Sci...</td>\n",
       "      <td>$TMO - Correlation between Thermo… http://dlvr...</td>\n",
       "    </tr>\n",
       "    <tr>\n",
       "      <th>3</th>\n",
       "      <td>194180647</td>\n",
       "      <td>none</td>\n",
       "      <td>2020-02-10 17:35:05</td>\n",
       "      <td>[{'symbol': 'TMO', 'title': 'Thermo Fisher Sci...</td>\n",
       "      <td>$TMO NEW ARTICLE : Thermo Fisher: Expensive, B...</td>\n",
       "    </tr>\n",
       "    <tr>\n",
       "      <th>4</th>\n",
       "      <td>194079959</td>\n",
       "      <td>none</td>\n",
       "      <td>2020-02-09 22:43:47</td>\n",
       "      <td>[{'symbol': 'TMO', 'title': 'Thermo Fisher Sci...</td>\n",
       "      <td>Your daily News digest for Thermo Fisher Scien...</td>\n",
       "    </tr>\n",
       "    <tr>\n",
       "      <th>...</th>\n",
       "      <td>...</td>\n",
       "      <td>...</td>\n",
       "      <td>...</td>\n",
       "      <td>...</td>\n",
       "      <td>...</td>\n",
       "    </tr>\n",
       "    <tr>\n",
       "      <th>7615</th>\n",
       "      <td>1293080</td>\n",
       "      <td>none</td>\n",
       "      <td>2010-04-20 14:44:27</td>\n",
       "      <td>[{'symbol': 'ATHR', 'title': 'Atheros Communic...</td>\n",
       "      <td>Top Bulls\\n$CKR,$PHG,$HOG,$SFSF,$ATHR,$TMO,$ED...</td>\n",
       "    </tr>\n",
       "    <tr>\n",
       "      <th>7616</th>\n",
       "      <td>1292111</td>\n",
       "      <td>none</td>\n",
       "      <td>2010-04-20 13:04:37</td>\n",
       "      <td>[{'symbol': 'TMO', 'title': 'Thermo Fisher Sci...</td>\n",
       "      <td>RT @Street_Insider Thermo Fisher Scientific $T...</td>\n",
       "    </tr>\n",
       "    <tr>\n",
       "      <th>7617</th>\n",
       "      <td>1112615</td>\n",
       "      <td>none</td>\n",
       "      <td>2010-02-28 22:44:31</td>\n",
       "      <td>[{'symbol': 'MRK', 'title': 'Merck &amp; Co. Inc.'...</td>\n",
       "      <td>$MIL Gets $107 from $MRK - wowm, explains all ...</td>\n",
       "    </tr>\n",
       "    <tr>\n",
       "      <th>7618</th>\n",
       "      <td>1107268</td>\n",
       "      <td>none</td>\n",
       "      <td>2010-02-25 23:39:19</td>\n",
       "      <td>[{'symbol': 'TMO', 'title': 'Thermo Fisher Sci...</td>\n",
       "      <td>$TMO - Check out the blocks of shares traded a...</td>\n",
       "    </tr>\n",
       "    <tr>\n",
       "      <th>7619</th>\n",
       "      <td>1105762</td>\n",
       "      <td>none</td>\n",
       "      <td>2010-02-25 18:59:19</td>\n",
       "      <td>[{'symbol': 'TMO', 'title': 'Thermo Fisher Sci...</td>\n",
       "      <td>$TMO may increase $MIL takeover bid to ink dea...</td>\n",
       "    </tr>\n",
       "  </tbody>\n",
       "</table>\n",
       "<p>7620 rows × 5 columns</p>\n",
       "</div>"
      ],
      "text/plain": [
       "             id      tag              created  \\\n",
       "0     194205182  Bullish  2020-02-10 19:29:18   \n",
       "1     194188267     none  2020-02-10 18:12:08   \n",
       "2     194185981     none  2020-02-10 18:01:02   \n",
       "3     194180647     none  2020-02-10 17:35:05   \n",
       "4     194079959     none  2020-02-09 22:43:47   \n",
       "...         ...      ...                  ...   \n",
       "7615    1293080     none  2010-04-20 14:44:27   \n",
       "7616    1292111     none  2010-04-20 13:04:37   \n",
       "7617    1112615     none  2010-02-28 22:44:31   \n",
       "7618    1107268     none  2010-02-25 23:39:19   \n",
       "7619    1105762     none  2010-02-25 18:59:19   \n",
       "\n",
       "                                             newSymbols  \\\n",
       "0     [{'symbol': 'ILMN', 'title': 'Illumina Inc.'},...   \n",
       "1     [{'symbol': 'TER', 'title': 'Teradyne Inc.'}, ...   \n",
       "2     [{'symbol': 'TMO', 'title': 'Thermo Fisher Sci...   \n",
       "3     [{'symbol': 'TMO', 'title': 'Thermo Fisher Sci...   \n",
       "4     [{'symbol': 'TMO', 'title': 'Thermo Fisher Sci...   \n",
       "...                                                 ...   \n",
       "7615  [{'symbol': 'ATHR', 'title': 'Atheros Communic...   \n",
       "7616  [{'symbol': 'TMO', 'title': 'Thermo Fisher Sci...   \n",
       "7617  [{'symbol': 'MRK', 'title': 'Merck & Co. Inc.'...   \n",
       "7618  [{'symbol': 'TMO', 'title': 'Thermo Fisher Sci...   \n",
       "7619  [{'symbol': 'TMO', 'title': 'Thermo Fisher Sci...   \n",
       "\n",
       "                                                   body  \n",
       "0     $BNGO Here&#39;s a perfect example on why most...  \n",
       "1     Feasible portfolio: Teradyne($TER), Thermo Fis...  \n",
       "2     $TMO - Correlation between Thermo… http://dlvr...  \n",
       "3     $TMO NEW ARTICLE : Thermo Fisher: Expensive, B...  \n",
       "4     Your daily News digest for Thermo Fisher Scien...  \n",
       "...                                                 ...  \n",
       "7615  Top Bulls\\n$CKR,$PHG,$HOG,$SFSF,$ATHR,$TMO,$ED...  \n",
       "7616  RT @Street_Insider Thermo Fisher Scientific $T...  \n",
       "7617  $MIL Gets $107 from $MRK - wowm, explains all ...  \n",
       "7618  $TMO - Check out the blocks of shares traded a...  \n",
       "7619  $TMO may increase $MIL takeover bid to ink dea...  \n",
       "\n",
       "[7620 rows x 5 columns]"
      ]
     },
     "execution_count": 17,
     "metadata": {},
     "output_type": "execute_result"
    }
   ],
   "source": [
    "dataFrameTwits[{'id', 'body', 'created', 'tag', 'newSymbols'}]"
   ]
  },
  {
   "cell_type": "code",
   "execution_count": 29,
   "metadata": {
    "scrolled": true
   },
   "outputs": [
    {
     "name": "stdout",
     "output_type": "stream",
     "text": [
      "{'id': 686, 'symbol': 'AAPL', 'title': 'Apple Inc.', 'aliases': [], 'is_following': False, 'watchlist_count': 347764}\n",
      "{'id': 864, 'symbol': 'AMZN', 'title': 'Amazon.com Inc.', 'aliases': [], 'is_following': False, 'watchlist_count': 244021}\n",
      "{'id': 7271, 'symbol': 'SPY', 'title': 'SPDR S&P 500', 'aliases': [], 'is_following': False, 'watchlist_count': 160751}\n",
      "{'id': 12100, 'symbol': 'BABA', 'title': 'Alibaba', 'aliases': ['ALIBABA'], 'is_following': False, 'watchlist_count': 168155}\n",
      "[{'symbol': 'AAPL', 'title': 'Apple Inc.'}, {'symbol': 'AMZN', 'title': 'Amazon.com Inc.'}, {'symbol': 'SPY', 'title': 'SPDR S&P 500'}, {'symbol': 'BABA', 'title': 'Alibaba'}]\n",
      "{'id': 686, 'symbol': 'AAPL', 'title': 'Apple Inc.', 'aliases': [], 'is_following': False, 'watchlist_count': 347760}\n",
      "[{'symbol': 'AAPL', 'title': 'Apple Inc.'}]\n",
      "{'id': 686, 'symbol': 'AAPL', 'title': 'Apple Inc.', 'aliases': [], 'is_following': False, 'watchlist_count': 347764}\n",
      "{'id': 2735, 'symbol': 'MSFT', 'title': 'Microsoft Corporation', 'aliases': [], 'is_following': False, 'watchlist_count': 157390}\n",
      "{'id': 15438, 'symbol': 'SPCE', 'title': 'Virgin Galactic ', 'aliases': [], 'is_following': False, 'watchlist_count': 20328}\n",
      "[{'symbol': 'AAPL', 'title': 'Apple Inc.'}, {'symbol': 'MSFT', 'title': 'Microsoft Corporation'}, {'symbol': 'SPCE', 'title': 'Virgin Galactic '}]\n",
      "{'id': 686, 'symbol': 'AAPL', 'title': 'Apple Inc.', 'aliases': [], 'is_following': False, 'watchlist_count': 347764}\n",
      "{'id': 2735, 'symbol': 'MSFT', 'title': 'Microsoft Corporation', 'aliases': [], 'is_following': False, 'watchlist_count': 157390}\n",
      "{'id': 7271, 'symbol': 'SPY', 'title': 'SPDR S&P 500', 'aliases': [], 'is_following': False, 'watchlist_count': 160751}\n",
      "{'id': 15438, 'symbol': 'SPCE', 'title': 'Virgin Galactic ', 'aliases': [], 'is_following': False, 'watchlist_count': 20328}\n",
      "[{'symbol': 'AAPL', 'title': 'Apple Inc.'}, {'symbol': 'MSFT', 'title': 'Microsoft Corporation'}, {'symbol': 'SPY', 'title': 'SPDR S&P 500'}, {'symbol': 'SPCE', 'title': 'Virgin Galactic '}]\n",
      "{'id': 686, 'symbol': 'AAPL', 'title': 'Apple Inc.', 'aliases': [], 'is_following': False, 'watchlist_count': 347760}\n",
      "[{'symbol': 'AAPL', 'title': 'Apple Inc.'}]\n",
      "{'id': 686, 'symbol': 'AAPL', 'title': 'Apple Inc.', 'aliases': [], 'is_following': False, 'watchlist_count': 347760}\n",
      "[{'symbol': 'AAPL', 'title': 'Apple Inc.'}]\n",
      "{'id': 686, 'symbol': 'AAPL', 'title': 'Apple Inc.', 'aliases': [], 'is_following': False, 'watchlist_count': 347760}\n",
      "[{'symbol': 'AAPL', 'title': 'Apple Inc.'}]\n",
      "{'id': 686, 'symbol': 'AAPL', 'title': 'Apple Inc.', 'aliases': [], 'is_following': False, 'watchlist_count': 347760}\n",
      "[{'symbol': 'AAPL', 'title': 'Apple Inc.'}]\n",
      "{'id': 686, 'symbol': 'AAPL', 'title': 'Apple Inc.', 'aliases': [], 'is_following': False, 'watchlist_count': 347760}\n",
      "[{'symbol': 'AAPL', 'title': 'Apple Inc.'}]\n",
      "{'id': 686, 'symbol': 'AAPL', 'title': 'Apple Inc.', 'aliases': [], 'is_following': False, 'watchlist_count': 347760}\n",
      "[{'symbol': 'AAPL', 'title': 'Apple Inc.'}]\n",
      "{'id': 686, 'symbol': 'AAPL', 'title': 'Apple Inc.', 'aliases': [], 'is_following': False, 'watchlist_count': 347755}\n",
      "[{'symbol': 'AAPL', 'title': 'Apple Inc.'}]\n",
      "{'id': 686, 'symbol': 'AAPL', 'title': 'Apple Inc.', 'aliases': [], 'is_following': False, 'watchlist_count': 347755}\n",
      "[{'symbol': 'AAPL', 'title': 'Apple Inc.'}]\n",
      "{'id': 686, 'symbol': 'AAPL', 'title': 'Apple Inc.', 'aliases': [], 'is_following': False, 'watchlist_count': 347755}\n",
      "[{'symbol': 'AAPL', 'title': 'Apple Inc.'}]\n",
      "{'id': 686, 'symbol': 'AAPL', 'title': 'Apple Inc.', 'aliases': [], 'is_following': False, 'watchlist_count': 347755}\n",
      "{'id': 4331, 'symbol': 'AMD', 'title': 'Advanced Micro Devices, Inc.', 'aliases': [], 'is_following': False, 'watchlist_count': 202498}\n",
      "{'id': 8660, 'symbol': 'TSLA', 'title': 'Tesla, Inc.', 'aliases': [], 'is_following': False, 'watchlist_count': 280731}\n",
      "[{'symbol': 'AAPL', 'title': 'Apple Inc.'}, {'symbol': 'AMD', 'title': 'Advanced Micro Devices, Inc.'}, {'symbol': 'TSLA', 'title': 'Tesla, Inc.'}]\n",
      "{'id': 686, 'symbol': 'AAPL', 'title': 'Apple Inc.', 'aliases': [], 'is_following': False, 'watchlist_count': 347760}\n",
      "{'id': 2735, 'symbol': 'MSFT', 'title': 'Microsoft Corporation', 'aliases': [], 'is_following': False, 'watchlist_count': 157390}\n",
      "{'id': 3290, 'symbol': 'QCOM', 'title': 'QUALCOMM Incorporated', 'aliases': [], 'is_following': False, 'watchlist_count': 30236}\n",
      "{'id': 7271, 'symbol': 'SPY', 'title': 'SPDR S&P 500', 'aliases': [], 'is_following': False, 'watchlist_count': 160751}\n",
      "[{'symbol': 'AAPL', 'title': 'Apple Inc.'}, {'symbol': 'MSFT', 'title': 'Microsoft Corporation'}, {'symbol': 'QCOM', 'title': 'QUALCOMM Incorporated'}, {'symbol': 'SPY', 'title': 'SPDR S&P 500'}]\n",
      "{'id': 686, 'symbol': 'AAPL', 'title': 'Apple Inc.', 'aliases': [], 'is_following': False, 'watchlist_count': 347746}\n",
      "[{'symbol': 'AAPL', 'title': 'Apple Inc.'}]\n",
      "{'id': 686, 'symbol': 'AAPL', 'title': 'Apple Inc.', 'aliases': [], 'is_following': False, 'watchlist_count': 347752}\n",
      "[{'symbol': 'AAPL', 'title': 'Apple Inc.'}]\n",
      "{'id': 686, 'symbol': 'AAPL', 'title': 'Apple Inc.', 'aliases': [], 'is_following': False, 'watchlist_count': 347755}\n",
      "{'id': 7271, 'symbol': 'SPY', 'title': 'SPDR S&P 500', 'aliases': [], 'is_following': False, 'watchlist_count': 160746}\n",
      "{'id': 9466, 'symbol': 'TVIX', 'title': 'VelocityShares Daily 2x VIX ST ETN', 'aliases': [], 'is_following': False, 'watchlist_count': 40816}\n",
      "{'id': 11188, 'symbol': 'UVXY', 'title': 'ProShares Trust Ultra VIX Short-Term Futures ETF', 'aliases': [], 'is_following': False, 'watchlist_count': 40868}\n",
      "[{'symbol': 'AAPL', 'title': 'Apple Inc.'}, {'symbol': 'SPY', 'title': 'SPDR S&P 500'}, {'symbol': 'TVIX', 'title': 'VelocityShares Daily 2x VIX ST ETN'}, {'symbol': 'UVXY', 'title': 'ProShares Trust Ultra VIX Short-Term Futures ETF'}]\n",
      "{'id': 686, 'symbol': 'AAPL', 'title': 'Apple Inc.', 'aliases': [], 'is_following': False, 'watchlist_count': 347746}\n",
      "[{'symbol': 'AAPL', 'title': 'Apple Inc.'}]\n",
      "{'id': 686, 'symbol': 'AAPL', 'title': 'Apple Inc.', 'aliases': [], 'is_following': False, 'watchlist_count': 347755}\n",
      "[{'symbol': 'AAPL', 'title': 'Apple Inc.'}]\n",
      "{'id': 686, 'symbol': 'AAPL', 'title': 'Apple Inc.', 'aliases': [], 'is_following': False, 'watchlist_count': 347746}\n",
      "{'id': 864, 'symbol': 'AMZN', 'title': 'Amazon.com Inc.', 'aliases': [], 'is_following': False, 'watchlist_count': 244011}\n",
      "{'id': 2839, 'symbol': 'NFLX', 'title': 'Netflix, Inc.', 'aliases': [], 'is_following': False, 'watchlist_count': 209142}\n",
      "{'id': 7871, 'symbol': 'FB', 'title': 'Facebook', 'aliases': ['FBOOK'], 'is_following': False, 'watchlist_count': 245381}\n",
      "{'id': 11938, 'symbol': 'GOOGL', 'title': 'Alphabet Inc. Class A', 'aliases': [], 'is_following': False, 'watchlist_count': 72470}\n",
      "[{'symbol': 'AAPL', 'title': 'Apple Inc.'}, {'symbol': 'AMZN', 'title': 'Amazon.com Inc.'}, {'symbol': 'NFLX', 'title': 'Netflix, Inc.'}, {'symbol': 'FB', 'title': 'Facebook'}, {'symbol': 'GOOGL', 'title': 'Alphabet Inc. Class A'}]\n",
      "{'id': 686, 'symbol': 'AAPL', 'title': 'Apple Inc.', 'aliases': [], 'is_following': False, 'watchlist_count': 347742}\n",
      "{'id': 1403, 'symbol': 'COST', 'title': 'Costco Wholesale Corporation', 'aliases': [], 'is_following': False, 'watchlist_count': 24772}\n",
      "{'id': 1759, 'symbol': 'EQIX', 'title': 'Equinix, Inc.', 'aliases': [], 'is_following': False, 'watchlist_count': 1440}\n",
      "[{'symbol': 'AAPL', 'title': 'Apple Inc.'}, {'symbol': 'COST', 'title': 'Costco Wholesale Corporation'}, {'symbol': 'EQIX', 'title': 'Equinix, Inc.'}]\n",
      "{'id': 686, 'symbol': 'AAPL', 'title': 'Apple Inc.', 'aliases': [], 'is_following': False, 'watchlist_count': 347742}\n",
      "[{'symbol': 'AAPL', 'title': 'Apple Inc.'}]\n",
      "{'id': 686, 'symbol': 'AAPL', 'title': 'Apple Inc.', 'aliases': [], 'is_following': False, 'watchlist_count': 347746}\n",
      "{'id': 7271, 'symbol': 'SPY', 'title': 'SPDR S&P 500', 'aliases': [], 'is_following': False, 'watchlist_count': 160735}\n",
      "[{'symbol': 'AAPL', 'title': 'Apple Inc.'}, {'symbol': 'SPY', 'title': 'SPDR S&P 500'}]\n",
      "{'id': 686, 'symbol': 'AAPL', 'title': 'Apple Inc.', 'aliases': [], 'is_following': False, 'watchlist_count': 347742}\n",
      "{'id': 15438, 'symbol': 'SPCE', 'title': 'Virgin Galactic ', 'aliases': [], 'is_following': False, 'watchlist_count': 20132}\n",
      "[{'symbol': 'AAPL', 'title': 'Apple Inc.'}, {'symbol': 'SPCE', 'title': 'Virgin Galactic '}]\n",
      "{'id': 686, 'symbol': 'AAPL', 'title': 'Apple Inc.', 'aliases': [], 'is_following': False, 'watchlist_count': 347752}\n",
      "{'id': 4979, 'symbol': 'DIA', 'title': 'SPDR Dow Jones Industrial Average', 'aliases': [], 'is_following': False, 'watchlist_count': 11222}\n",
      "{'id': 7271, 'symbol': 'SPY', 'title': 'SPDR S&P 500', 'aliases': [], 'is_following': False, 'watchlist_count': 160740}\n",
      "{'id': 8677, 'symbol': 'STUDY', 'title': 'Stocktwits Education', 'aliases': [], 'is_following': False, 'watchlist_count': 4885}\n",
      "[{'symbol': 'AAPL', 'title': 'Apple Inc.'}, {'symbol': 'DIA', 'title': 'SPDR Dow Jones Industrial Average'}, {'symbol': 'SPY', 'title': 'SPDR S&P 500'}, {'symbol': 'STUDY', 'title': 'Stocktwits Education'}]\n",
      "{'id': 686, 'symbol': 'AAPL', 'title': 'Apple Inc.', 'aliases': [], 'is_following': False, 'watchlist_count': 347742}\n",
      "{'id': 2735, 'symbol': 'MSFT', 'title': 'Microsoft Corporation', 'aliases': [], 'is_following': False, 'watchlist_count': 157369}\n",
      "{'id': 4331, 'symbol': 'AMD', 'title': 'Advanced Micro Devices, Inc.', 'aliases': [], 'is_following': False, 'watchlist_count': 202490}\n",
      "{'id': 7271, 'symbol': 'SPY', 'title': 'SPDR S&P 500', 'aliases': [], 'is_following': False, 'watchlist_count': 160747}\n",
      "{'id': 12100, 'symbol': 'BABA', 'title': 'Alibaba', 'aliases': ['ALIBABA'], 'is_following': False, 'watchlist_count': 168148}\n",
      "[{'symbol': 'AAPL', 'title': 'Apple Inc.'}, {'symbol': 'MSFT', 'title': 'Microsoft Corporation'}, {'symbol': 'AMD', 'title': 'Advanced Micro Devices, Inc.'}, {'symbol': 'SPY', 'title': 'SPDR S&P 500'}, {'symbol': 'BABA', 'title': 'Alibaba'}]\n",
      "{'id': 686, 'symbol': 'AAPL', 'title': 'Apple Inc.', 'aliases': [], 'is_following': False, 'watchlist_count': 347742}\n",
      "[{'symbol': 'AAPL', 'title': 'Apple Inc.'}]\n",
      "{'id': 686, 'symbol': 'AAPL', 'title': 'Apple Inc.', 'aliases': [], 'is_following': False, 'watchlist_count': 347760}\n",
      "{'id': 2925, 'symbol': 'NVDA', 'title': 'NVIDIA Corporation', 'aliases': [], 'is_following': False, 'watchlist_count': 163176}\n",
      "{'id': 4331, 'symbol': 'AMD', 'title': 'Advanced Micro Devices, Inc.', 'aliases': [], 'is_following': False, 'watchlist_count': 202500}\n",
      "{'id': 7271, 'symbol': 'SPY', 'title': 'SPDR S&P 500', 'aliases': [], 'is_following': False, 'watchlist_count': 160751}\n",
      "{'id': 8660, 'symbol': 'TSLA', 'title': 'Tesla, Inc.', 'aliases': [], 'is_following': False, 'watchlist_count': 280740}\n",
      "[{'symbol': 'AAPL', 'title': 'Apple Inc.'}, {'symbol': 'NVDA', 'title': 'NVIDIA Corporation'}, {'symbol': 'AMD', 'title': 'Advanced Micro Devices, Inc.'}, {'symbol': 'SPY', 'title': 'SPDR S&P 500'}, {'symbol': 'TSLA', 'title': 'Tesla, Inc.'}]\n",
      "{'id': 686, 'symbol': 'AAPL', 'title': 'Apple Inc.', 'aliases': [], 'is_following': False, 'watchlist_count': 347742}\n",
      "[{'symbol': 'AAPL', 'title': 'Apple Inc.'}]\n"
     ]
    }
   ],
   "source": [
    "for index in dataframe['symbols']:\n",
    "    symbolsList = []\n",
    "\n",
    "    for diction in index:\n",
    "        print(diction)\n",
    "        symbolsList.append({'symbol' : diction['symbol'], 'title' : diction['title']})\n",
    "    print(symbolsList)"
   ]
  },
  {
   "cell_type": "code",
   "execution_count": null,
   "metadata": {},
   "outputs": [],
   "source": []
  },
  {
   "cell_type": "code",
   "execution_count": 25,
   "metadata": {},
   "outputs": [
    {
     "data": {
      "text/plain": [
       "[{'id': 677,\n",
       "  'symbol': 'DJIA',\n",
       "  'title': 'Dow Jones Industrial Index',\n",
       "  'aliases': [],\n",
       "  'is_following': False,\n",
       "  'watchlist_count': 45326},\n",
       " {'id': 686,\n",
       "  'symbol': 'AAPL',\n",
       "  'title': 'Apple Inc.',\n",
       "  'aliases': [],\n",
       "  'is_following': False,\n",
       "  'watchlist_count': 347394}]"
      ]
     },
     "execution_count": 25,
     "metadata": {},
     "output_type": "execute_result"
    }
   ],
   "source": [
    "dataframe['symbols'][0][:2]"
   ]
  },
  {
   "cell_type": "code",
   "execution_count": 16,
   "metadata": {},
   "outputs": [
    {
     "data": {
      "text/plain": [
       "[{'id': 677,\n",
       "  'symbol': 'DJIA',\n",
       "  'title': 'Dow Jones Industrial Index',\n",
       "  'aliases': [],\n",
       "  'is_following': False,\n",
       "  'watchlist_count': 45326},\n",
       " {'id': 686,\n",
       "  'symbol': 'AAPL',\n",
       "  'title': 'Apple Inc.',\n",
       "  'aliases': [],\n",
       "  'is_following': False,\n",
       "  'watchlist_count': 347394},\n",
       " {'id': 2735,\n",
       "  'symbol': 'MSFT',\n",
       "  'title': 'Microsoft Corporation',\n",
       "  'aliases': [],\n",
       "  'is_following': False,\n",
       "  'watchlist_count': 156556},\n",
       " {'id': 7271,\n",
       "  'symbol': 'SPY',\n",
       "  'title': 'SPDR S&P 500',\n",
       "  'aliases': [],\n",
       "  'is_following': False,\n",
       "  'watchlist_count': 160361},\n",
       " {'id': 9581,\n",
       "  'symbol': 'QQQ',\n",
       "  'title': 'PowerShares Nasdaq-100 QQQ',\n",
       "  'aliases': ['QQQQ'],\n",
       "  'is_following': False,\n",
       "  'watchlist_count': 48712}]"
      ]
     },
     "execution_count": 16,
     "metadata": {},
     "output_type": "execute_result"
    }
   ],
   "source": [
    "symbol = dataframe['symbols'][everyRow][everySymbolPerRow].get('symbol')\n",
    "title = dataframe['symbols'][everyRow][everySymbolPerRow].get('title')"
   ]
  },
  {
   "cell_type": "code",
   "execution_count": 98,
   "metadata": {},
   "outputs": [],
   "source": [
    "def get_other_symbols(df):\n",
    "    for element in df['symbols']:\n",
    "        print(df['symbols'][row])\n"
   ]
  },
  {
   "cell_type": "code",
   "execution_count": 99,
   "metadata": {},
   "outputs": [
    {
     "ename": "NameError",
     "evalue": "name 'element' is not defined",
     "output_type": "error",
     "traceback": [
      "\u001b[1;31m---------------------------------------------------------------------------\u001b[0m",
      "\u001b[1;31mNameError\u001b[0m                                 Traceback (most recent call last)",
      "\u001b[1;32m<ipython-input-99-006eb492ee69>\u001b[0m in \u001b[0;36m<module>\u001b[1;34m\u001b[0m\n\u001b[0;32m      1\u001b[0m \u001b[1;32mfor\u001b[0m \u001b[0mrow\u001b[0m \u001b[1;32min\u001b[0m \u001b[0mdataframe\u001b[0m\u001b[1;33m[\u001b[0m\u001b[1;34m'symbols'\u001b[0m\u001b[1;33m]\u001b[0m\u001b[1;33m:\u001b[0m\u001b[1;33m\u001b[0m\u001b[1;33m\u001b[0m\u001b[0m\n\u001b[1;32m----> 2\u001b[1;33m     \u001b[0mprint\u001b[0m\u001b[1;33m(\u001b[0m\u001b[0mdataframe\u001b[0m\u001b[1;33m[\u001b[0m\u001b[1;34m'symbols'\u001b[0m\u001b[1;33m]\u001b[0m\u001b[1;33m[\u001b[0m\u001b[0melement\u001b[0m\u001b[1;33m]\u001b[0m\u001b[1;33m)\u001b[0m\u001b[1;33m\u001b[0m\u001b[1;33m\u001b[0m\u001b[0m\n\u001b[0m",
      "\u001b[1;31mNameError\u001b[0m: name 'element' is not defined"
     ]
    }
   ],
   "source": [
    "for row in dataframe['symbols']:\n",
    "    print(dataframe['symbols'][element])"
   ]
  },
  {
   "cell_type": "code",
   "execution_count": null,
   "metadata": {},
   "outputs": [],
   "source": []
  },
  {
   "cell_type": "code",
   "execution_count": null,
   "metadata": {},
   "outputs": [],
   "source": []
  },
  {
   "cell_type": "code",
   "execution_count": null,
   "metadata": {},
   "outputs": [],
   "source": [
    "# Extracting specifix keys from dictionary \n",
    "res = dict((k, test_dict[k]) for k in ['nikhil', 'akshat'] \n",
    "                                        if k in test_dict) \n",
    "res = dict((k, symbols['symbols'][4]) for k in ['symbol'])"
   ]
  },
  {
   "cell_type": "code",
   "execution_count": 16,
   "metadata": {},
   "outputs": [],
   "source": [
    "response = requests.get(url, params={'max' : '193528854' }).json()"
   ]
  },
  {
   "cell_type": "markdown",
   "metadata": {},
   "source": [
    "## Download newest data to repository"
   ]
  },
  {
   "cell_type": "code",
   "execution_count": 2,
   "metadata": {},
   "outputs": [],
   "source": [
    "import os\n",
    "from pathlib import Path"
   ]
  },
  {
   "cell_type": "code",
   "execution_count": 21,
   "metadata": {},
   "outputs": [],
   "source": [
    "#This gets the parent directory of the current directory\n",
    "current = os.getcwd()\n",
    "path = Path(current)\n",
    "old_twits_folder = str(path.parent.parent)+\"\\\\StockTwits\"\n",
    "old_twits_folder\n",
    "new_twits_folder = str(path.parent)+\"\\\\data\\\\StockTwits\""
   ]
  },
  {
   "cell_type": "code",
   "execution_count": 7,
   "metadata": {},
   "outputs": [],
   "source": [
    "for symbol in stockSymbol:\n",
    "    \n",
    "    #selects the file to add to\n",
    "    file = old_twits_folder+'\\\\{}_twits.csv'.format(symbol)\n",
    "    \n",
    "    historicalTwits = pd.read_csv(file)\n",
    "    \n",
    "    historicalTwits.to_csv(new_twits_folder+'\\\\{}_twits.csv'.format(symbol), index=False)"
   ]
  },
  {
   "cell_type": "code",
   "execution_count": 22,
   "metadata": {},
   "outputs": [
    {
     "data": {
      "text/plain": [
       "'C:\\\\Users\\\\Russell\\\\OneDrive - Marist College\\\\School\\\\Spring 2020\\\\DATA 450 Data Capping\\\\Repository\\\\data\\\\StockTwits'"
      ]
     },
     "execution_count": 22,
     "metadata": {},
     "output_type": "execute_result"
    }
   ],
   "source": [
    "new_twits_folder"
   ]
  },
  {
   "cell_type": "code",
   "execution_count": null,
   "metadata": {},
   "outputs": [],
   "source": []
  },
  {
   "cell_type": "code",
   "execution_count": null,
   "metadata": {},
   "outputs": [],
   "source": []
  }
 ],
 "metadata": {
  "kernelspec": {
   "display_name": "Python 3",
   "language": "python",
   "name": "python3"
  },
  "language_info": {
   "codemirror_mode": {
    "name": "ipython",
    "version": 3
   },
   "file_extension": ".py",
   "mimetype": "text/x-python",
   "name": "python",
   "nbconvert_exporter": "python",
   "pygments_lexer": "ipython3",
   "version": "3.7.6"
  }
 },
 "nbformat": 4,
 "nbformat_minor": 4
}
