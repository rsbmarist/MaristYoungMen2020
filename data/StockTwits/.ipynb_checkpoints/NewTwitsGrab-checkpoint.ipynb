{
 "cells": [
  {
   "cell_type": "code",
   "execution_count": 1,
   "metadata": {},
   "outputs": [],
   "source": [
    "#Import statements\n",
    "import json\n",
    "import requests\n",
    "import pandas as pd\n",
    "import numpy as np\n",
    "import datetime\n",
    "from pandas.io.json import json_normalize\n",
    "import os\n",
    "import csv\n",
    "import time"
   ]
  },
  {
   "cell_type": "code",
   "execution_count": 2,
   "metadata": {},
   "outputs": [],
   "source": [
    "# The stock Symbols that we will iterate through\n",
    "# Apple = AAPL\n",
    "# Amazon = AMZN\n",
    "# Google = GOOGL\n",
    "# Microsoft = MSFT\n",
    "# Dell = DELL\n",
    "# IBM = IBM\n",
    "# Intel = INTC\n",
    "# HP = HPQ\n",
    "# Facebook = FB\n",
    "# Cisco Systems = CSCO\n",
    "# Oracle = ORCL\n",
    "# HP Enterprise = HPE\n",
    "# Micron Tech = MU\n",
    "# DXC Tech = DXC\n",
    "# Thermo Fisher Scientific = TMO\n",
    "\n",
    "# Qualcomm = QCOM\n",
    "# Jabil = JBL\n",
    "# Broadcom = AVGO\n",
    "# Western Digital = WDC\n",
    "# Applied Materials = AMAT\n",
    "\n",
    "\n",
    "# Tesla = TSLA\n",
    "# Alibaba = BABA\n",
    "# Nvidia = NVDA\n",
    "# Walmart = WMT\n",
    "# Walt Disney = DIS\n",
    "stockSymbol = [\"AAPL\", \"AMZN\", \"GOOGL\",\"MSFT\", \"DELL\", \"IBM\", \"INTC\", \"HPQ\",\n",
    "               \"FB\", \"CSCO\", \"ORCL\", \"HPE\", \"MU\", \"DXC\", \"TMO\"]"
   ]
  },
  {
   "cell_type": "code",
   "execution_count": null,
   "metadata": {},
   "outputs": [],
   "source": [
    "while True:\n",
    "    for symbol in stockSymbol:\n",
    "    \n",
    "        #selects the file to add to\n",
    "        file = '{}_newTwits.csv'.format(symbol)\n",
    "    \n",
    "        historicalTwits = pd.read_csv(file)\n",
    "        oldestID = historicalTwits['id'].iloc[-1]\n",
    "    \n",
    "        url = \"https://api.stocktwits.com/api/2/streams/symbol/{}.json\".format(symbol)\n",
    "        response = requests.get(url, params = {'since' :  newestID}).json()\n",
    "    \n",
    "        tempTwitsDf = collect_Twits(response)\n",
    "\n",
    "        newHistoricalTwits = historicalTwits.append(tempTwitsDf)\n",
    "    \n",
    "        newHistoricalTwits.to_csv(r'{}_newTwits.csv'.format(symbol), index=False)\n",
    "        time.sleep(60)\n",
    "        newHistoricalTwits.to_csv(r'{}_newTwitsCopy.csv'.format(symbol), index=False)\n",
    "        time.sleep(60)"
   ]
  }
 ],
 "metadata": {
  "kernelspec": {
   "display_name": "Python 3",
   "language": "python",
   "name": "python3"
  },
  "language_info": {
   "codemirror_mode": {
    "name": "ipython",
    "version": 3
   },
   "file_extension": ".py",
   "mimetype": "text/x-python",
   "name": "python",
   "nbconvert_exporter": "python",
   "pygments_lexer": "ipython3",
   "version": "3.7.3"
  }
 },
 "nbformat": 4,
 "nbformat_minor": 2
}
