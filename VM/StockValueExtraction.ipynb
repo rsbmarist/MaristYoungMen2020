{
 "cells": [
  {
   "cell_type": "code",
   "execution_count": 1,
   "metadata": {},
   "outputs": [],
   "source": [
    "import pandas as pd\n",
    "import requests\n",
    "import json\n",
    "from datetime import datetime\n",
    "from pathlib import Path\n",
    "import os\n",
    "import time"
   ]
  },
  {
   "cell_type": "code",
   "execution_count": 2,
   "metadata": {},
   "outputs": [],
   "source": [
    "key = 'AU74VSFGT1S37O4A'\n",
    "stockSymbol = [\"AAPL\", \"AMZN\", \"GOOGL\",\"MSFT\", \"DELL\", \"IBM\", \"INTC\", \"HPQ\",\n",
    "               \"FB\", \"CSCO\", \"ORCL\", \"HPE\", \"MU\", \"DXC\", \"TMO\"]"
   ]
  },
  {
   "cell_type": "code",
   "execution_count": 3,
   "metadata": {},
   "outputs": [
    {
     "name": "stdout",
     "output_type": "stream",
     "text": [
      "C:\\Users\\Russell\\OneDrive - Marist College\\School\\Spring 2020\\DATA 450 Data Capping\\Repository\\VM\n"
     ]
    }
   ],
   "source": [
    "#This gets the parent directory of the current directory\n",
    "current = os.getcwd()\n",
    "print(current)"
   ]
  },
  {
   "cell_type": "code",
   "execution_count": 4,
   "metadata": {},
   "outputs": [],
   "source": [
    "def format_daily_api(stockResponse):\n",
    "    newDf = pd.DataFrame(columns =[\"open\", \"high\", \"low\", \"close\", 'volume','time'])\n",
    "    \n",
    "    for times in stockResponse['Time Series (Daily)'].keys():\n",
    "        timestamp = datetime.strptime(times, '%Y-%m-%d')\n",
    "        ope = stockResponse['Time Series (Daily)'][times]['1. open']\n",
    "        high = stockResponse['Time Series (Daily)'][times]['2. high']\n",
    "        low = stockResponse['Time Series (Daily)'][times]['3. low']\n",
    "        close = stockResponse['Time Series (Daily)'][times]['4. close']\n",
    "        volume = stockResponse['Time Series (Daily)'][times]['5. volume']\n",
    "        \n",
    "        newDf = newDf.append({\"open\":ope, \"high\":high, \"low\":low,\n",
    "                          \"close\":close, \"volume\":volume, \"time\":timestamp}, ignore_index=True)\n",
    "    newDf['time'] = pd.to_datetime(newDf['time'])\n",
    "    \n",
    "    return newDf"
   ]
  },
  {
   "cell_type": "code",
   "execution_count": 5,
   "metadata": {},
   "outputs": [],
   "source": [
    "for symbol in stockSymbol:\n",
    "    dailyUrl = ('https://www.alphavantage.co/query?function=TIME_SERIES_DAILY&symbol={}&apikey='+key).format(symbol)\n",
    "    stockRes = requests.get(dailyUrl).json()\n",
    "    \n",
    "    companyFolder = str(current)+\"\\\\{}folder\".format(symbol)\n",
    "    \n",
    "    file = companyFolder+'\\\\{}Daily.csv'.format(symbol)\n",
    "    df=pd.read_csv(file)\n",
    "    df.time = pd.to_datetime(df.time)\n",
    "    \n",
    "    stockAPIdf = format_daily_api(stockRes)\n",
    "\n",
    "    ##Stack the dataframes on top of each other without the issue of different columns\n",
    "    newDailyValueDf = stockAPIdf.append(df)\n",
    "    \n",
    "    \n",
    "    newDailyValueDf['percentChange'] = newDailyValueDf['close'].astype(float).pct_change(periods=-1)\n",
    "    newDailyValueDf['percentVol'] = newDailyValueDf['volume'].astype(float).pct_change(periods=-1)\n",
    "    \n",
    "    dataframeValue = newDailyValueDf[{'open', 'high', 'low', 'close', 'volume', 'time', 'percentChange', 'percentVol'}]\n",
    "    \n",
    "    dataframeValue['time'] = pd.to_datetime(dataframeValue['time'])\n",
    "    \n",
    "    dataframeValue = dataframeValue.sort_values(by= 'time', ascending = False)\n",
    "    \n",
    "    dataframeValue = dataframeValue.drop_duplicates(subset='time')\n",
    "    \n",
    "    dataframeValue = dataframeValue[{'open', 'high', 'low', 'close', 'volume', 'time', 'percentChange', 'percentVol'}]\n",
    "    \n",
    "    dataframeValue.to_csv(file, index=False)\n",
    "    time.sleep(30)\n",
    "    time.sleep(30)\n",
    "    \n",
    "for stock in stockSymbol:\n",
    "\n",
    "    newDf = pd.DataFrame(columns =[\"open\", \"high\", \"low\", \"close\", 'volume','time'])\n",
    "\n",
    "\n",
    "    url = ('https://www.alphavantage.co/query?function=TIME_SERIES_INTRADAY&symbol={}&interval=1min&outputsize=full&apikey='+key).format(stock)\n",
    "    stockRes = requests.get(url).json()\n",
    "    \n",
    "    companyFolder = str(current)+\"\\\\{}folder\".format(stock)\n",
    "\n",
    "    file = companyFolder+'\\\\{}Values.csv'.format(stock)\n",
    "    df=pd.read_csv(file)\n",
    "    df.time = pd.to_datetime(df.time)\n",
    "\n",
    "    for times in stockRes['Time Series (1min)'].keys():\n",
    "        timestamp = datetime.strptime(times, '%Y-%m-%d %H:%M:%S')\n",
    "        ope = stockRes['Time Series (1min)'][times]['1. open']\n",
    "        high = stockRes['Time Series (1min)'][times]['2. high']\n",
    "        low = stockRes['Time Series (1min)'][times]['3. low']\n",
    "        close = stockRes['Time Series (1min)'][times]['4. close']\n",
    "        volume = stockRes['Time Series (1min)'][times]['5. volume']\n",
    "\n",
    "        newDf = newDf.append({\"open\":ope, \"high\":high, \"low\":low, \"close\":close, \"volume\":volume, \"time\":timestamp}, ignore_index=True)\n",
    "\n",
    "    dataframeValue = newDf.append(df)\n",
    "\n",
    "    dataframeValue = dataframeValue[{'open', 'high', 'low', 'close', 'volume', 'time'}]\n",
    "\n",
    "    dataframeValue['time'] = pd.to_datetime(dataframeValue['time'])\n",
    "\n",
    "    dataframeValue = dataframeValue.drop_duplicates(subset='time')\n",
    "\n",
    "    dataframeValue = dataframeValue.sort_values(by = 'time', ascending = False)\n",
    "\n",
    "    dataframeValue.to_csv(file, index=False)\n",
    "    time.sleep(60)"
   ]
  },
  {
   "cell_type": "code",
   "execution_count": null,
   "metadata": {},
   "outputs": [],
   "source": []
  },
  {
   "cell_type": "code",
   "execution_count": null,
   "metadata": {},
   "outputs": [],
   "source": []
  }
 ],
 "metadata": {
  "kernelspec": {
   "display_name": "Python 3",
   "language": "python",
   "name": "python3"
  },
  "language_info": {
   "codemirror_mode": {
    "name": "ipython",
    "version": 3
   },
   "file_extension": ".py",
   "mimetype": "text/x-python",
   "name": "python",
   "nbconvert_exporter": "python",
   "pygments_lexer": "ipython3",
   "version": "3.7.6"
  }
 },
 "nbformat": 4,
 "nbformat_minor": 4
}
