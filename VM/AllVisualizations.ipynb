{
 "cells": [
  {
   "cell_type": "code",
   "execution_count": null,
   "metadata": {
    "colab": {},
    "colab_type": "code",
    "id": "EyOXDGXW6KdL"
   },
   "outputs": [],
   "source": [
    "import numpy as np\n",
    "import matplotlib.pyplot as plt\n",
    "import pandas as pd\n",
    "import json\n",
    "from collections import Counter\n",
    "import ast\n",
    "import os\n",
    "import os.path\n",
    "import csv\n",
    "from datetime import date, datetime, timedelta\n",
    "print(os.getcwd())"
   ]
  },
  {
   "cell_type": "code",
   "execution_count": null,
   "metadata": {},
   "outputs": [],
   "source": [
    "stockSymbol = [\"AAPL\", \"AMZN\", \"GOOGL\",\"MSFT\", \"DELL\", \"IBM\", \"INTC\", \"HPQ\",\n",
    "               \"FB\", \"CSCO\", \"ORCL\", \"HPE\", \"MU\", \"DXC\", \"TMO\"]\n",
    "\n",
    "# initalize relative path directory\n",
    "script = os.getcwd()\n",
    "print(script)\n",
    "images = os.path.join(script, 'visualization', 'WebsitePNGs')\n",
    "print(images)\n"
   ]
  },
  {
   "cell_type": "markdown",
   "metadata": {},
   "source": [
    "# Stock Twits\n",
    "## Top 5 Other Companies Mentioned in Twits\n",
    "### Make Pie and Donut Chart"
   ]
  },
  {
   "cell_type": "code",
   "execution_count": null,
   "metadata": {
    "colab": {},
    "colab_type": "code",
    "id": "FT_qOvehJwTP"
   },
   "outputs": [],
   "source": [
    "def MakeDonutChart(data,symbol,timeSeries):\n",
    "    getCount = Counter(k['symbol'] for k in data if dict(k).get('symbol'))\n",
    "    symbolCount = dict(getCount)\n",
    "    symbolCount[symbol] = 0\n",
    "    symbolCount = {k: v for k, v in sorted(symbolCount.items(), key=lambda item: item[1], reverse=True)}\n",
    "    fig, ax = plt.subplots(figsize=(11, 10), subplot_kw=dict(aspect=\"equal\"))\n",
    "\n",
    "    cnt = 0\n",
    "    data = []\n",
    "    symbols = []\n",
    "    recipe = []\n",
    "    for key in symbolCount.keys():\n",
    "        data.append(symbolCount[key])\n",
    "        symbols.append(key)\n",
    "        recipe.append(key + ' - ' + str(symbolCount[key]) + ' twits')\n",
    "        cnt += 1\n",
    "        if cnt >= 5:\n",
    "            break\n",
    "\n",
    "    if sum(data) < 15:\n",
    "        print('Not enough data for given time frame')\n",
    "        fig.suptitle('Not enough data for given time frame', fontsize=20)\n",
    "        os.chdir(images)\n",
    "        plt.savefig(symbol+'TopFiveOtherCompanies'+timeSeries+'.png', optimize=True)\n",
    "        print('saved '+symbol+'TopFiveOtherCompanies'+timeSeries+'.png to '+os.getcwd())\n",
    "        plt.close()\n",
    "        os.chdir(script)\n",
    "        print('returning to '+os.getcwd())\n",
    "        return\n",
    "\n",
    "    def explode():\n",
    "        try:\n",
    "            exp = (0.1,0,0,0,0)\n",
    "        except:\n",
    "            exp=None\n",
    "        return(exp)\n",
    "\n",
    "    wedges, texts = ax.pie(data, \n",
    "                           explode=explode(), \n",
    "                           shadow=True, wedgeprops=dict(width=0.5), startangle=-40)\n",
    "\n",
    "    bbox_props = dict(boxstyle=\"square,pad=0.3\", fc=\"w\", ec=\"k\", lw=0.72)\n",
    "    kw = dict(arrowprops=dict(arrowstyle=\"-\"),\n",
    "              bbox=bbox_props, zorder=0, va=\"center\")\n",
    "\n",
    "    for i, p in enumerate(wedges):\n",
    "        ang = (p.theta2 - p.theta1)/2. + p.theta1\n",
    "        y = np.sin(np.deg2rad(ang))\n",
    "        x = np.cos(np.deg2rad(ang))\n",
    "        horizontalalignment = {-1: \"right\", 1: \"left\"}[int(np.sign(x))]\n",
    "        connectionstyle = \"angle,angleA=0,angleB={}\".format(ang)\n",
    "        kw[\"arrowprops\"].update({\"connectionstyle\": connectionstyle})\n",
    "        ax.annotate(recipe[i], xy=(x, y), xytext=(1.35*np.sign(x), 1.4*y),\n",
    "                    horizontalalignment=horizontalalignment, **kw)\n",
    "\n",
    "    ax.legend(wedges, symbols,\n",
    "            fontsize='large',\n",
    "            title_fontsize='large',\n",
    "            title=\"Symbols\",\n",
    "            loc=\"center\",\n",
    "            frameon=False)\n",
    "            #bbox_to_anchor=(1, 0, 0.5, 1))\n",
    "    #ax.set_title(\"Top Ten Companies Mentioned in \" + symbol + \" Twits\", fontsize=30, pad=50)\n",
    "\n",
    "    os.chdir(images)\n",
    "    plt.savefig(symbol+'TopFiveOtherCompanies'+timeSeries+'.png', optimize=True)\n",
    "    print('saved '+symbol+'TopFiveOtherCompanies'+timeSeries+'.png to '+os.getcwd())\n",
    "    plt.close()\n",
    "    os.chdir(script)\n",
    "    print('returning to '+os.getcwd())"
   ]
  },
  {
   "cell_type": "markdown",
   "metadata": {},
   "source": [
    "### Count Other Companies for Pie and Donut Chart"
   ]
  },
  {
   "cell_type": "code",
   "execution_count": null,
   "metadata": {},
   "outputs": [],
   "source": [
    "def GetOtherCompanies(fname, days='all'):\n",
    "    to_ignore = fname[:-10]\n",
    "    # set wd to Symbolfolder\n",
    "    symbolFolder = os.path.join(script, to_ignore+'folder')\n",
    "    os.chdir(symbolFolder)\n",
    "    print('Pulling data from ' +os.getcwd())\n",
    "    df = pd.read_csv(fname)\n",
    "    df['Date'] = pd.to_datetime(df['created']) # save time string as datetime\n",
    "    stock_ds = []\n",
    "    if days == 'lastWeek':\n",
    "        lastweekdate = pd.to_datetime('today').floor('D') - timedelta(7)\n",
    "        df = df[df.Date >= lastweekdate]\n",
    "        for row in df.newSymbols:\n",
    "            lists = ast.literal_eval(row)\n",
    "            for diction in lists:\n",
    "                stock_ds.append(diction)\n",
    "        MakeDonutChart(stock_ds, to_ignore, 'LastWeek')\n",
    "    elif days == 'lastMonth':\n",
    "        lastmonthdate = pd.to_datetime('today').floor('D') - timedelta(30)\n",
    "        df = df[df.Date >= lastmonthdate]\n",
    "        for row in df.newSymbols:\n",
    "            lists = ast.literal_eval(row)\n",
    "            for diction in lists:\n",
    "                stock_ds.append(diction)\n",
    "        MakeDonutChart(stock_ds, to_ignore, 'LastMonth')\n",
    "    elif days == 'lastYear':\n",
    "        lastyeardate = pd.to_datetime('today').floor('D') - timedelta(365)\n",
    "        df = df[df.Date >= lastyeardate]\n",
    "        for row in df.newSymbols:\n",
    "            lists = ast.literal_eval(row)\n",
    "            for diction in lists:\n",
    "                stock_ds.append(diction)\n",
    "        MakeDonutChart(stock_ds, to_ignore, 'LastYear')\n",
    "    else:\n",
    "        for row in df.newSymbols:\n",
    "            lists = ast.literal_eval(row)\n",
    "            for diction in lists:\n",
    "                stock_ds.append(diction)\n",
    "        MakeDonutChart(stock_ds, to_ignore, 'AllTime')"
   ]
  },
  {
   "cell_type": "markdown",
   "metadata": {},
   "source": [
    "## Bullish/Bearish Tags\n",
    "### Make Bar Chart"
   ]
  },
  {
   "cell_type": "code",
   "execution_count": null,
   "metadata": {},
   "outputs": [],
   "source": [
    "def MakeBarChart(tags,symbol,timeSeries):\n",
    "    data = []\n",
    "    tag = []\n",
    "    for key in tags.keys():\n",
    "        data.append(tags[key])\n",
    "        tag.append(key)\n",
    "    \n",
    "    df = pd.DataFrame({'Tags':tag, 'val':data})\n",
    "    ax = df.plot.barh('Tags', 'val', color=['g', 'r', 'y'], fontsize=15, figsize=(11,10), legend=False)\n",
    "    ax.set_ylabel('Tags', fontsize=20)\n",
    "    for i, v in enumerate(data):\n",
    "        ax.text(v, i, str(v), fontsize=15, fontweight='bold')\n",
    "    \n",
    "    os.chdir(images)\n",
    "    plt.savefig(symbol+'Tags'+timeSeries+'.png', optimize=True)\n",
    "    print('saved '+symbol+'Tags'+timeSeries+'.png to '+os.getcwd())\n",
    "    plt.close()\n",
    "    os.chdir(script)\n",
    "    print('returning to '+os.getcwd())"
   ]
  },
  {
   "cell_type": "markdown",
   "metadata": {},
   "source": [
    "### Count Tags for Bar Chart"
   ]
  },
  {
   "cell_type": "code",
   "execution_count": null,
   "metadata": {},
   "outputs": [],
   "source": [
    "def GetTags(fname, days='all'):\n",
    "    symbol = fname[:-10]\n",
    "    # set wd to Symbolfolder\n",
    "    symbolFolder = os.path.join(script, symbol+'folder')\n",
    "    os.chdir(symbolFolder)\n",
    "    print('Pulling data from ' +os.getcwd())\n",
    "    df = pd.read_csv(fname)\n",
    "    df['Date'] = pd.to_datetime(df['created']) # save time string as datetime\n",
    "    tags = {\n",
    "        'Bullish': 0,\n",
    "        'Bearish': 0,\n",
    "        'none': 0\n",
    "    }\n",
    "\n",
    "    if days == 'lastWeek':\n",
    "        lastweekdate = pd.to_datetime('today').floor('D') - timedelta(7)\n",
    "        df = df[df.Date >= lastweekdate]\n",
    "        for row in df.tag:\n",
    "            tags[row] += 1\n",
    "        MakeBarChart(tags,symbol,'LastWeek')\n",
    "    elif days == 'lastMonth':\n",
    "        lastmonthdate = pd.to_datetime('today').floor('D') - timedelta(30)\n",
    "        df = df[df.Date >= lastmonthdate]\n",
    "        for row in df.tag:\n",
    "            tags[row] += 1\n",
    "        MakeBarChart(tags,symbol,'LastMonth')\n",
    "    elif days == 'lastYear':\n",
    "        lastyeardate = pd.to_datetime('today').floor('D') - timedelta(365)\n",
    "        df = df[df.Date >= lastyeardate]\n",
    "        for row in df.tag:\n",
    "            tags[row] += 1\n",
    "        MakeBarChart(tags,symbol,'LastYear')\n",
    "    else:\n",
    "        for row in df.tag:\n",
    "            tags[row] += 1\n",
    "        MakeBarChart(tags,symbol,'AllTime')"
   ]
  },
  {
   "cell_type": "markdown",
   "metadata": {},
   "source": [
    "# Daily and Minute Values\n",
    "## Stock Performance"
   ]
  },
  {
   "cell_type": "code",
   "execution_count": null,
   "metadata": {},
   "outputs": [],
   "source": [
    "def GetVolume(fname, days='all'):\n",
    "    if 'Values' in fname:\n",
    "        symbol = fname[:-10]\n",
    "    else:\n",
    "        symbol = fname[:-9]\n",
    "    symbolFolder = os.path.join(script, symbol+'folder')\n",
    "    os.chdir(symbolFolder)\n",
    "    print('Pulling data from ' +os.getcwd())\n",
    "    df = pd.read_csv(fname)\n",
    "    df['Date'] = pd.to_datetime(df['time'])\n",
    "    df[\"SMA1\"] = df['close'].rolling(window=25).mean()\n",
    "    df[\"SMA2\"] = df['close'].rolling(window=100).mean()\n",
    "    \n",
    "    if days == 'lastWeek':\n",
    "        lastweekdate = pd.to_datetime('today').floor('D') - timedelta(7)\n",
    "        df = df[df.Date >= lastweekdate]\n",
    "        ax = df.plot('Date', 'volume', figsize=(15,10), fontsize=15)\n",
    "        ax.set_xlabel('')\n",
    "        ax.set_ylabel('Volume', fontsize=20)\n",
    "        plt.ticklabel_format(style='plain', axis='y')\n",
    "        plt.grid(True)\n",
    "        os.chdir(images)\n",
    "        plt.savefig(symbol+'VolumeLastWeek.png', optimize=True)\n",
    "        print('saved '+symbol+'VolumeLastWeek.png to '+os.getcwd())\n",
    "        plt.close()\n",
    "        os.chdir(symbolFolder)\n",
    "        print('returning to '+os.getcwd())\n",
    "        ax = df.plot('Date', 'close', figsize=(11,10), fontsize=15)\n",
    "        ax.set_xlabel('')\n",
    "        ax.set_ylabel('Price', fontsize=20)\n",
    "        plt.legend()\n",
    "        plt.ticklabel_format(style='plain', axis='y')\n",
    "        plt.grid(True)\n",
    "        os.chdir(images)\n",
    "        plt.savefig(symbol+'PriceLastWeek.png', optimize=True)\n",
    "        print('saved '+symbol+'PriceLastWeek.png to '+os.getcwd())\n",
    "        plt.close()\n",
    "        os.chdir(script)\n",
    "        print('Done - returning to '+os.getcwd())\n",
    "\n",
    "    elif days == 'lastMonth':\n",
    "        lastmonthdate = pd.to_datetime('today').floor('D') - timedelta(30)\n",
    "        df = df[df.Date >= lastmonthdate]\n",
    "        ax = df.plot('Date', 'volume', figsize=(15,10), fontsize=15)\n",
    "        ax.set_xlabel('')\n",
    "        ax.set_ylabel('Volume', fontsize=20)\n",
    "        plt.ticklabel_format(style='plain', axis='y')\n",
    "        plt.grid(True)\n",
    "        os.chdir(images)\n",
    "        plt.savefig(symbol+'VolumeLastMonth.png', optimize=True)\n",
    "        print('saved '+symbol+'VolumeLastMonth.png to '+os.getcwd())\n",
    "        os.chdir(symbolFolder)\n",
    "        print('returning to '+os.getcwd())\n",
    "        plt.close()\n",
    "        ax = df.plot('Date', 'close', figsize=(11,10), fontsize=15)\n",
    "        ax.set_xlabel('')\n",
    "        ax.set_ylabel('Price', fontsize=20)\n",
    "        plt.ticklabel_format(style='plain', axis='y')\n",
    "        plt.grid(True)\n",
    "        os.chdir(images)\n",
    "        plt.savefig(symbol+'PriceLastMonth.png', optimize=True)\n",
    "        print('saved '+symbol+'PriceLastMonth.png to '+os.getcwd())\n",
    "        os.chdir(script)\n",
    "        print('Done - returning to '+os.getcwd())\n",
    "        plt.close()\n",
    "\n",
    "    elif days == 'lastYear':\n",
    "        lastyeardate = pd.to_datetime('today').floor('D') - timedelta(365)\n",
    "        df = df[df.Date >= lastyeardate]\n",
    "        ax = df.plot('Date', 'volume', figsize=(15,10), fontsize=15)\n",
    "        ax.set_xlabel('')\n",
    "        ax.set_ylabel('Volume', fontsize=20)\n",
    "        plt.ticklabel_format(style='plain', axis='y')\n",
    "        plt.grid(True)\n",
    "        os.chdir(images)\n",
    "        plt.savefig(symbol+'VolumeLastYear.png', optimize=True)\n",
    "        print('saved '+symbol+'VolumeLastYear.png to '+os.getcwd())\n",
    "        os.chdir(symbolFolder)\n",
    "        print('returning to '+os.getcwd())\n",
    "        plt.close()\n",
    "        ax = df.plot('Date', 'close', figsize=(11,10), fontsize=15)\n",
    "        plt.plot(df.Date, df['SMA1'], 'g--', label=\"Simple Moving Average - 25 Days\")\n",
    "        plt.plot(df.Date, df['SMA2'], 'r--', label=\"Simple Moving Average - 100 Days\")\n",
    "        ax.set_xlabel('')\n",
    "        ax.set_ylabel('Price', fontsize=20)\n",
    "        plt.legend()\n",
    "        plt.ticklabel_format(style='plain', axis='y')\n",
    "        plt.grid(True)\n",
    "        os.chdir(images)\n",
    "        plt.savefig(symbol+'PriceLastYear.png', optimize=True)\n",
    "        print('saved '+symbol+'PriceLastYear.png to '+os.getcwd())\n",
    "        plt.close()\n",
    "        os.chdir(script)\n",
    "        print('Done - returning to '+os.getcwd())\n",
    "        \n",
    "    else:\n",
    "        ax = df.plot('Date', 'volume', figsize=(15,10), fontsize=15)\n",
    "        ax.set_xlabel('')\n",
    "        ax.set_ylabel('Volume', fontsize=20)\n",
    "        plt.ticklabel_format(style='plain', axis='y')\n",
    "        plt.grid(True)\n",
    "        os.chdir(images)\n",
    "        plt.savefig(symbol+'VolumeAllTime.png', optimize=True)\n",
    "        print('saved '+symbol+'VolumeAllTime.png to '+os.getcwd())\n",
    "        plt.close()\n",
    "        os.chdir(symbolFolder)\n",
    "        print('returning to '+os.getcwd())\n",
    "        ax = df.plot('Date', 'close', figsize=(11,10), fontsize=15)\n",
    "        plt.plot(df.Date, df['SMA1'], 'g--', label=\"Simple Moving Average - 25 Days\")\n",
    "        plt.plot(df.Date, df['SMA2'], 'r--', label=\"Simple Moving Average - 100 Days\")\n",
    "        ax.set_xlabel('')\n",
    "        ax.set_ylabel('Price', fontsize=20)\n",
    "        plt.legend()\n",
    "        plt.ticklabel_format(style='plain', axis='y')\n",
    "        plt.grid(True)\n",
    "        os.chdir(images)\n",
    "        plt.savefig(symbol+'PriceAllTime.png', optimize=True)\n",
    "        print('saved '+symbol+'PriceAllTime.png to '+os.getcwd())\n",
    "        os.chdir(script)\n",
    "        print('Done - returning to '+os.getcwd())\n",
    "        plt.close()"
   ]
  },
  {
   "cell_type": "markdown",
   "metadata": {},
   "source": [
    "# Create Visualizations"
   ]
  },
  {
   "cell_type": "code",
   "execution_count": null,
   "metadata": {
    "colab": {
     "base_uri": "https://localhost:8080/",
     "height": 356
    },
    "colab_type": "code",
    "executionInfo": {
     "elapsed": 2329,
     "status": "ok",
     "timestamp": 1586491891869,
     "user": {
      "displayName": "Christopher Major",
      "photoUrl": "https://lh3.googleusercontent.com/a-/AOh14GjXfqg4WfNS07QDaWy2cFDQ1mBzjN6Vei3U3JEGOw=s64",
      "userId": "02191423418547924508"
     },
     "user_tz": 240
    },
    "id": "R5GKnVGLPjpT",
    "outputId": "01ec5220-a0cd-4c29-e66d-9fda9d8ad57d"
   },
   "outputs": [],
   "source": [
    "for i in stockSymbol:\n",
    "    GetOtherCompanies('{}_twits.csv'.format(i), days='lastWeek')\n",
    "    GetOtherCompanies('{}_twits.csv'.format(i), days='lastMonth')\n",
    "    GetOtherCompanies('{}_twits.csv'.format(i), days='lastYear')\n",
    "    GetOtherCompanies('{}_twits.csv'.format(i))\n",
    "    GetVolume('{}Daily.csv'.format(i), days='lastWeek')\n",
    "    GetVolume('{}Daily.csv'.format(i), days='lastMonth')\n",
    "    GetVolume('{}Daily.csv'.format(i), days='lastYear')\n",
    "    GetVolume('{}Daily.csv'.format(i))\n",
    "    GetTags('{}_twits.csv'.format(i), days='lastWeek')\n",
    "    GetTags('{}_twits.csv'.format(i), days='lastMonth')\n",
    "    GetTags('{}_twits.csv'.format(i), days='lastYear')\n",
    "    GetTags('{}_twits.csv'.format(i))"
   ]
  },
  {
   "cell_type": "markdown",
   "metadata": {},
   "source": [
    "## AAPL"
   ]
  },
  {
   "cell_type": "code",
   "execution_count": null,
   "metadata": {
    "scrolled": true
   },
   "outputs": [],
   "source": [
    "# GetOtherCompanies('AAPL_Twits.csv', days='lastWeek')\n",
    "# GetOtherCompanies('AAPL_Twits.csv', days='lastMonth')\n",
    "# GetOtherCompanies('AAPL_Twits.csv', days='lastYear')\n",
    "# GetOtherCompanies('AAPL_Twits.csv')\n",
    "GetVolume('AAPLDaily.csv', days='lastWeek')\n",
    "GetVolume('AAPLDaily.csv', days='lastMonth')\n",
    "GetVolume('AAPLDaily.csv', days='lastYear')\n",
    "GetVolume('AAPLDaily.csv')\n",
    "GetTags('AAPL_Twits.csv', days='lastWeek')\n",
    "GetTags('AAPL_Twits.csv', days='lastMonth')\n",
    "GetTags('AAPL_Twits.csv', days='lastYear')\n",
    "GetTags('AAPL_Twits.csv')"
   ]
  },
  {
   "cell_type": "markdown",
   "metadata": {},
   "source": [
    "## AMZN"
   ]
  },
  {
   "cell_type": "code",
   "execution_count": null,
   "metadata": {},
   "outputs": [],
   "source": [
    "GetOtherCompanies('AMZN_Twits.csv', days='lastWeek')\n",
    "GetOtherCompanies('AMZN_Twits.csv', days='lastMonth')\n",
    "GetOtherCompanies('AMZN_Twits.csv', days='lastYear')\n",
    "GetOtherCompanies('AMZN_Twits.csv')\n",
    "GetVolume('AMZNDaily.csv', days='lastWeek')\n",
    "GetVolume('AMZNDaily.csv', days='lastMonth')\n",
    "GetVolume('AMZNDaily.csv', days='lastYear')\n",
    "GetVolume('AMZNDaily.csv')"
   ]
  },
  {
   "cell_type": "markdown",
   "metadata": {},
   "source": [
    "## GOOGL"
   ]
  },
  {
   "cell_type": "code",
   "execution_count": null,
   "metadata": {},
   "outputs": [],
   "source": [
    "GetOtherCompanies('GOOGL_Twits.csv', days='lastWeek')\n",
    "GetOtherCompanies('GOOGL_Twits.csv', days='lastMonth')\n",
    "GetOtherCompanies('GOOGL_Twits.csv', days='lastYear')\n",
    "GetOtherCompanies('GOOGL_Twits.csv')\n",
    "GetVolume('GOOGLDaily.csv', days='lastWeek')\n",
    "GetVolume('GOOGLDaily.csv', days='lastMonth')\n",
    "GetVolume('GOOGLDaily.csv', days='lastYear')\n",
    "GetVolume('GOOGLDaily.csv')"
   ]
  },
  {
   "cell_type": "markdown",
   "metadata": {},
   "source": [
    "## MSFT"
   ]
  },
  {
   "cell_type": "code",
   "execution_count": null,
   "metadata": {},
   "outputs": [],
   "source": [
    "GetOtherCompanies('MSFT_Twits.csv', days='lastWeek')\n",
    "GetOtherCompanies('MSFT_Twits.csv', days='lastMonth')\n",
    "GetOtherCompanies('MSFT_Twits.csv', days='lastYear')\n",
    "GetOtherCompanies('MSFT_Twits.csv')\n",
    "GetVolume('MSFTDaily.csv', days='lastWeek')\n",
    "GetVolume('MSFTDaily.csv', days='lastMonth')\n",
    "GetVolume('MSFTDaily.csv', days='lastYear')\n",
    "GetVolume('MSFTDaily.csv')"
   ]
  },
  {
   "cell_type": "markdown",
   "metadata": {},
   "source": [
    "## DELL"
   ]
  },
  {
   "cell_type": "code",
   "execution_count": null,
   "metadata": {},
   "outputs": [],
   "source": [
    "GetOtherCompanies('DELL_Twits.csv', days='lastWeek')\n",
    "GetOtherCompanies('DELL_Twits.csv', days='lastMonth')\n",
    "GetOtherCompanies('DELL_Twits.csv', days='lastYear')\n",
    "GetOtherCompanies('DELL_Twits.csv')\n",
    "GetVolume('DELLDaily.csv', days='lastWeek')\n",
    "GetVolume('DELLDaily.csv', days='lastMonth')\n",
    "GetVolume('DELLDaily.csv', days='lastYear')\n",
    "GetVolume('DELLDaily.csv')"
   ]
  },
  {
   "cell_type": "markdown",
   "metadata": {},
   "source": [
    "## IBM"
   ]
  },
  {
   "cell_type": "code",
   "execution_count": null,
   "metadata": {},
   "outputs": [],
   "source": [
    "GetOtherCompanies('IBM_Twits.csv', days='lastWeek')\n",
    "GetOtherCompanies('IBM_Twits.csv', days='lastMonth')\n",
    "GetOtherCompanies('IBM_Twits.csv', days='lastYear')\n",
    "GetOtherCompanies('IBM_Twits.csv')\n",
    "GetVolume('IBMDaily.csv', days='lastWeek')\n",
    "GetVolume('IBMDaily.csv', days='lastMonth')\n",
    "GetVolume('IBMDaily.csv', days='lastYear')\n",
    "GetVolume('IBMDaily.csv')"
   ]
  },
  {
   "cell_type": "markdown",
   "metadata": {},
   "source": [
    "## INTC"
   ]
  },
  {
   "cell_type": "code",
   "execution_count": null,
   "metadata": {},
   "outputs": [],
   "source": [
    "GetOtherCompanies('INTC_Twits.csv', days='lastWeek')\n",
    "GetOtherCompanies('INTC_Twits.csv', days='lastMonth')\n",
    "GetOtherCompanies('INTC_Twits.csv', days='lastYear')\n",
    "GetOtherCompanies('INTC_Twits.csv')\n",
    "GetVolume('INTCDaily.csv', days='lastWeek')\n",
    "GetVolume('INTCDaily.csv', days='lastMonth')\n",
    "GetVolume('INTCDaily.csv', days='lastYear')\n",
    "GetVolume('INTCDaily.csv')"
   ]
  },
  {
   "cell_type": "markdown",
   "metadata": {},
   "source": [
    "## HPQ"
   ]
  },
  {
   "cell_type": "code",
   "execution_count": null,
   "metadata": {},
   "outputs": [],
   "source": [
    "GetOtherCompanies('HPQ_Twits.csv', days='lastWeek')\n",
    "GetOtherCompanies('HPQ_Twits.csv', days='lastMonth')\n",
    "GetOtherCompanies('HPQ_Twits.csv', days='lastYear')\n",
    "GetOtherCompanies('HPQ_Twits.csv')\n",
    "GetVolume('HPQDaily.csv', days='lastWeek')\n",
    "GetVolume('HPQDaily.csv', days='lastMonth')\n",
    "GetVolume('HPQDaily.csv', days='lastYear')\n",
    "GetVolume('HPQDaily.csv')"
   ]
  },
  {
   "cell_type": "markdown",
   "metadata": {},
   "source": [
    "## FB"
   ]
  },
  {
   "cell_type": "code",
   "execution_count": null,
   "metadata": {},
   "outputs": [],
   "source": [
    "GetOtherCompanies('FB_Twits.csv', days='lastWeek')\n",
    "GetOtherCompanies('FB_Twits.csv', days='lastMonth')\n",
    "GetOtherCompanies('FB_Twits.csv', days='lastYear')\n",
    "GetOtherCompanies('FB_Twits.csv')\n",
    "GetVolume('FBDaily.csv', days='lastWeek')\n",
    "GetVolume('FBDaily.csv', days='lastMonth')\n",
    "GetVolume('FBDaily.csv', days='lastYear')\n",
    "GetVolume('FBDaily.csv')"
   ]
  },
  {
   "cell_type": "markdown",
   "metadata": {},
   "source": [
    "## CSCO"
   ]
  },
  {
   "cell_type": "code",
   "execution_count": null,
   "metadata": {},
   "outputs": [],
   "source": [
    "GetOtherCompanies('CSCO_Twits.csv', days='lastWeek')\n",
    "GetOtherCompanies('CSCO_Twits.csv', days='lastMonth')\n",
    "GetOtherCompanies('CSCO_Twits.csv', days='lastYear')\n",
    "GetOtherCompanies('CSCO_Twits.csv')\n",
    "GetVolume('CSCODaily.csv', days='lastWeek')\n",
    "GetVolume('CSCODaily.csv', days='lastMonth')\n",
    "GetVolume('CSCODaily.csv', days='lastYear')\n",
    "GetVolume('CSCODaily.csv')"
   ]
  },
  {
   "cell_type": "markdown",
   "metadata": {},
   "source": [
    "## ORCL"
   ]
  },
  {
   "cell_type": "code",
   "execution_count": null,
   "metadata": {},
   "outputs": [],
   "source": [
    "GetOtherCompanies('ORCL_Twits.csv', days='lastWeek')\n",
    "GetOtherCompanies('ORCL_Twits.csv', days='lastMonth')\n",
    "GetOtherCompanies('ORCL_Twits.csv', days='lastYear')\n",
    "GetOtherCompanies('ORCL_Twits.csv')\n",
    "GetVolume('ORCLDaily.csv', days='lastWeek')\n",
    "GetVolume('ORCLDaily.csv', days='lastMonth')\n",
    "GetVolume('ORCLDaily.csv', days='lastYear')\n",
    "GetVolume('ORCLDaily.csv')"
   ]
  },
  {
   "cell_type": "markdown",
   "metadata": {},
   "source": [
    "## HPE"
   ]
  },
  {
   "cell_type": "code",
   "execution_count": null,
   "metadata": {},
   "outputs": [],
   "source": [
    "GetOtherCompanies('HPE_Twits.csv', days='lastWeek')\n",
    "GetOtherCompanies('HPE_Twits.csv', days='lastMonth')\n",
    "GetOtherCompanies('HPE_Twits.csv', days='lastYear')\n",
    "GetOtherCompanies('HPE_Twits.csv')\n",
    "GetVolume('HPEDaily.csv', days='lastWeek')\n",
    "GetVolume('HPEDaily.csv', days='lastMonth')\n",
    "GetVolume('HPEDaily.csv', days='lastYear')\n",
    "GetVolume('HPEDaily.csv')"
   ]
  },
  {
   "cell_type": "markdown",
   "metadata": {},
   "source": [
    "## MU"
   ]
  },
  {
   "cell_type": "code",
   "execution_count": null,
   "metadata": {},
   "outputs": [],
   "source": [
    "GetOtherCompanies('MU_Twits.csv', days='lastWeek')\n",
    "GetOtherCompanies('MU_Twits.csv', days='lastMonth')\n",
    "GetOtherCompanies('MU_Twits.csv', days='lastYear')\n",
    "GetOtherCompanies('MU_Twits.csv')\n",
    "GetVolume('MUDaily.csv', days='lastWeek')\n",
    "GetVolume('MUDaily.csv', days='lastMonth')\n",
    "GetVolume('MUDaily.csv', days='lastYear')\n",
    "GetVolume('MUDaily.csv')"
   ]
  },
  {
   "cell_type": "markdown",
   "metadata": {},
   "source": [
    "## DXC"
   ]
  },
  {
   "cell_type": "code",
   "execution_count": null,
   "metadata": {},
   "outputs": [],
   "source": [
    "GetOtherCompanies('DXC_Twits.csv', days='lastWeek')\n",
    "GetOtherCompanies('DXC_Twits.csv', days='lastMonth')\n",
    "GetOtherCompanies('DXC_Twits.csv', days='lastYear')\n",
    "GetOtherCompanies('DXC_Twits.csv')\n",
    "GetVolume('DXCDaily.csv', days='lastWeek')\n",
    "GetVolume('DXCDaily.csv', days='lastMonth')\n",
    "GetVolume('DXCDaily.csv', days='lastYear')\n",
    "GetVolume('DXCDaily.csv')"
   ]
  },
  {
   "cell_type": "markdown",
   "metadata": {},
   "source": [
    "## TMO"
   ]
  },
  {
   "cell_type": "code",
   "execution_count": null,
   "metadata": {},
   "outputs": [],
   "source": [
    "GetOtherCompanies('TMO_Twits.csv', days='lastWeek')\n",
    "GetOtherCompanies('TMO_Twits.csv', days='lastMonth')\n",
    "GetOtherCompanies('TMO_Twits.csv', days='lastYear')\n",
    "GetOtherCompanies('TMO_Twits.csv')\n",
    "GetVolume('TMODaily.csv', days='lastWeek')\n",
    "GetVolume('TMODaily.csv', days='lastMonth')\n",
    "GetVolume('TMODaily.csv', days='lastYear')\n",
    "GetVolume('TMODaily.csv')\n",
    "GetTags('TMO_Twits.csv', days='lastWeek')\n",
    "GetTags('TMO_Twits.csv', days='lastMonth')\n",
    "GetTags('TMO_Twits.csv', days='lastYear')\n",
    "GetTags('TMO_Twits.csv')"
   ]
  },
  {
   "cell_type": "code",
   "execution_count": null,
   "metadata": {},
   "outputs": [],
   "source": []
  }
 ],
 "metadata": {
  "colab": {
   "collapsed_sections": [],
   "name": "OtherCompanies.ipynb",
   "provenance": [],
   "toc_visible": true
  },
  "kernelspec": {
   "display_name": "Python 3",
   "language": "python",
   "name": "python3"
  },
  "language_info": {
   "codemirror_mode": {
    "name": "ipython",
    "version": 3
   },
   "file_extension": ".py",
   "mimetype": "text/x-python",
   "name": "python",
   "nbconvert_exporter": "python",
   "pygments_lexer": "ipython3",
   "version": "3.7.6"
  }
 },
 "nbformat": 4,
 "nbformat_minor": 1
}
