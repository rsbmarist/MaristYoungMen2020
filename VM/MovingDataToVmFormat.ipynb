{
 "cells": [
  {
   "cell_type": "code",
   "execution_count": 1,
   "metadata": {},
   "outputs": [],
   "source": [
    "#Import statements\n",
    "import json\n",
    "import requests\n",
    "import pandas as pd\n",
    "import numpy as np\n",
    "import datetime\n",
    "from pandas.io.json import json_normalize\n",
    "from pathlib import Path\n",
    "import os\n",
    "import csv\n",
    "import time"
   ]
  },
  {
   "cell_type": "code",
   "execution_count": 2,
   "metadata": {},
   "outputs": [
    {
     "name": "stdout",
     "output_type": "stream",
     "text": [
      "\u001b[33mDownloading emoji data ...\u001b[0m\n",
      "\u001b[92m... OK\u001b[0m (Got response in 0.28 seconds)\n",
      "\u001b[33mWriting emoji data to C:\\Users\\Russell\\.demoji/codes.json ...\u001b[0m\n",
      "\u001b[92m... OK\u001b[0m\n"
     ]
    }
   ],
   "source": [
    "import demoji\n",
    "from collections import Counter\n",
    "import ast\n",
    "demoji.download_codes()"
   ]
  },
  {
   "cell_type": "code",
   "execution_count": 3,
   "metadata": {},
   "outputs": [],
   "source": [
    "# The stock Symbols that we will iterate through\n",
    "# Apple = AAPL\n",
    "# Amazon = AMZN\n",
    "# Google = GOOGL\n",
    "# Microsoft = MSFT\n",
    "# Dell = DELL\n",
    "# IBM = IBM\n",
    "# Intel = INTC\n",
    "# HP = HPQ\n",
    "# Facebook = FB\n",
    "# Cisco Systems = CSCO\n",
    "# Oracle = ORCL\n",
    "# HP Enterprise = HPE\n",
    "# Micron Tech = MU\n",
    "# DXC Tech = DXC\n",
    "# Thermo Fisher Scientific = TMO\n",
    "stockSymbol = [\"AAPL\", \"AMZN\", \"GOOGL\",\"MSFT\", \"DELL\", \"IBM\", \"INTC\", \"HPQ\",\n",
    "               \"FB\", \"CSCO\", \"ORCL\", \"HPE\", \"MU\", \"DXC\", \"TMO\"]"
   ]
  },
  {
   "cell_type": "markdown",
   "metadata": {},
   "source": [
    "# This code tranfers the data into the VM file directory setting"
   ]
  },
  {
   "cell_type": "code",
   "execution_count": 4,
   "metadata": {},
   "outputs": [
    {
     "data": {
      "text/plain": [
       "('C:\\\\Users\\\\Russell\\\\OneDrive - Marist College\\\\School\\\\Spring 2020\\\\DATA 450 Data Capping\\\\Repository\\\\data\\\\StockTwits',\n",
       " 'C:\\\\Users\\\\Russell\\\\OneDrive - Marist College\\\\School\\\\Spring 2020\\\\DATA 450 Data Capping\\\\Repository\\\\VM')"
      ]
     },
     "execution_count": 4,
     "metadata": {},
     "output_type": "execute_result"
    }
   ],
   "source": [
    "#This gets the parent directory of the current directory\n",
    "current = os.getcwd()\n",
    "path = Path(current)\n",
    "twits_folder = str(path.parent)+'\\\\data\\\\StockTwits'\n",
    "twits_folder, current"
   ]
  },
  {
   "cell_type": "code",
   "execution_count": 5,
   "metadata": {},
   "outputs": [],
   "source": [
    "for symbol in stockSymbol:\n",
    "    twitsFile = twits_folder+'\\\\{}_twits.csv'.format(symbol)\n",
    "    \n",
    "    twitsData = pd.read_csv(twitsFile)\n",
    "    current = (os.getcwd()+\"\\\\{}folder\".format(symbol))\n",
    "    twitsData.to_csv(current+\"\\\\{}_twits.csv\".format(symbol), index=False)"
   ]
  },
  {
   "cell_type": "code",
   "execution_count": 9,
   "metadata": {},
   "outputs": [
    {
     "data": {
      "text/plain": [
       "('C:\\\\Users\\\\Russell\\\\OneDrive - Marist College\\\\School\\\\Spring 2020\\\\DATA 450 Data Capping\\\\Repository\\\\data\\\\DailyValues',\n",
       " 'C:\\\\Users\\\\Russell\\\\OneDrive - Marist College\\\\School\\\\Spring 2020\\\\DATA 450 Data Capping\\\\Repository\\\\VM')"
      ]
     },
     "execution_count": 9,
     "metadata": {},
     "output_type": "execute_result"
    }
   ],
   "source": [
    "#This gets the parent directory of the current directory\n",
    "current = os.getcwd()\n",
    "path = Path(current)\n",
    "daily_folder = str(path.parent)+'\\\\data\\\\DailyValues'\n",
    "daily_folder, current"
   ]
  },
  {
   "cell_type": "code",
   "execution_count": 10,
   "metadata": {},
   "outputs": [],
   "source": [
    "for symbol in stockSymbol:\n",
    "    dailyFile = daily_folder+'\\\\{}Daily.csv'.format(symbol)\n",
    "    \n",
    "    dailyData = pd.read_csv(dailyFile)\n",
    "    current = (os.getcwd()+\"\\\\{}folder\".format(symbol))\n",
    "    dailyData.to_csv(current+\"\\\\{}Daily.csv\".format(symbol), index=False)"
   ]
  },
  {
   "cell_type": "code",
   "execution_count": 7,
   "metadata": {},
   "outputs": [
    {
     "data": {
      "text/plain": [
       "('C:\\\\Users\\\\Russell\\\\OneDrive - Marist College\\\\School\\\\Spring 2020\\\\DATA 450 Data Capping\\\\Repository\\\\data\\\\MinuteValues',\n",
       " 'C:\\\\Users\\\\Russell\\\\OneDrive - Marist College\\\\School\\\\Spring 2020\\\\DATA 450 Data Capping\\\\Repository\\\\VM')"
      ]
     },
     "execution_count": 7,
     "metadata": {},
     "output_type": "execute_result"
    }
   ],
   "source": [
    "#This gets the parent directory of the current directory\n",
    "current = os.getcwd()\n",
    "path = Path(current)\n",
    "minute_folder = str(path.parent)+'\\\\data\\\\MinuteValues'\n",
    "minute_folder, current"
   ]
  },
  {
   "cell_type": "code",
   "execution_count": 8,
   "metadata": {},
   "outputs": [],
   "source": [
    "for symbol in stockSymbol:\n",
    "    minuteFile = minute_folder+'\\\\{}Values.csv'.format(symbol)\n",
    "    \n",
    "    minuteData = pd.read_csv(minuteFile)\n",
    "    current = (os.getcwd()+\"\\\\{}folder\".format(symbol))\n",
    "    minuteData.to_csv(current+\"\\\\{}Values.csv\".format(symbol), index=False)"
   ]
  },
  {
   "cell_type": "code",
   "execution_count": null,
   "metadata": {},
   "outputs": [],
   "source": []
  }
 ],
 "metadata": {
  "kernelspec": {
   "display_name": "Python 3",
   "language": "python",
   "name": "python3"
  },
  "language_info": {
   "codemirror_mode": {
    "name": "ipython",
    "version": 3
   },
   "file_extension": ".py",
   "mimetype": "text/x-python",
   "name": "python",
   "nbconvert_exporter": "python",
   "pygments_lexer": "ipython3",
   "version": "3.7.6"
  }
 },
 "nbformat": 4,
 "nbformat_minor": 4
}
