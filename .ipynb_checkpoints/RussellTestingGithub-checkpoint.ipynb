{
 "cells": [
  {
   "cell_type": "code",
   "execution_count": null,
   "metadata": {},
   "outputs": [],
   "source": [
    "from git import Repo\n",
    "\n",
    "repo_dir = 'mathematics'\n",
    "repo = Repo(repo_dir)\n",
    "file_list = [\n",
    "    '.',\n",
    "    'numerical_analysis/regression_analysis/simple_regression_analysis.png'\n",
    "]\n",
    "commit_message = 'Add simple regression analysis'\n",
    "repo.index.add(file_list)\n",
    "repo.index.commit(commit_message)\n",
    "origin = repo.remote('origin')\n",
    "origin.push()"
   ]
  },
  {
   "cell_type": "code",
   "execution_count": 29,
   "metadata": {},
   "outputs": [
    {
     "name": "stdout",
     "output_type": "stream",
     "text": [
      "C:\\Users\\Russe\\OneDrive - Marist College\\School\\Spring 2020\\DATA 450 Data Capping\n"
     ]
    }
   ],
   "source": [
    "#This gets the parent directory of the current directory\n",
    "from pathlib import Path\n",
    "import os\n",
    "current = os.getcwd()\n",
    "path = Path(current)\n",
    "print(path.parent)"
   ]
  },
  {
   "cell_type": "code",
   "execution_count": 15,
   "metadata": {},
   "outputs": [
    {
     "data": {
      "text/plain": [
       "'C:\\\\Users\\\\Russe\\\\OneDrive - Marist College\\\\School\\\\Spring 2020\\\\DATA 450 Data Capping\\\\Repository'"
      ]
     },
     "execution_count": 15,
     "metadata": {},
     "output_type": "execute_result"
    }
   ],
   "source": []
  },
  {
   "cell_type": "code",
   "execution_count": 21,
   "metadata": {},
   "outputs": [],
   "source": [
    "os.chdir(path)"
   ]
  },
  {
   "cell_type": "code",
   "execution_count": 30,
   "metadata": {},
   "outputs": [
    {
     "data": {
      "text/plain": [
       "['.ipynb_checkpoints',\n",
       " '.tmp.drivedownload',\n",
       " 'AAPLValues.csv',\n",
       " 'credentials.json',\n",
       " 'Data Science for Startups_ Data Pipelines - Towards Data Science.pdf',\n",
       " 'Email Automation with Python - Towards Data Science.html',\n",
       " 'Email Automation with Python - Towards Data Science.pdf',\n",
       " 'Homework 1 information.docx',\n",
       " 'How to apply continual learning to your machine learning models.pdf',\n",
       " 'MSFTValues.csv',\n",
       " 'newTwitsExtract.py',\n",
       " 'Possible algorithm help.docx',\n",
       " 'Project Management Notes.docx',\n",
       " 'quickstart.ipynb',\n",
       " 'Repository',\n",
       " 'Saving Python Data Visualizations for Presentations.pdf',\n",
       " 'StockTwits',\n",
       " 'StockValues',\n",
       " 'twitsExtractionJsonNormalize.ipynb',\n",
       " 'twitsExtractionSleep.ipynb',\n",
       " 'twitsFrame.csv',\n",
       " 'twitsFrameCopy-DESKTOP-ACMNO2J.csv',\n",
       " 'twitsFrameCopy.csv',\n",
       " 'Untitled.ipynb',\n",
       " 'Untitled1.py']"
      ]
     },
     "execution_count": 30,
     "metadata": {},
     "output_type": "execute_result"
    }
   ],
   "source": [
    "os.listdir(path.parent)"
   ]
  },
  {
   "cell_type": "code",
   "execution_count": null,
   "metadata": {},
   "outputs": [],
   "source": []
  }
 ],
 "metadata": {
  "kernelspec": {
   "display_name": "Python 3",
   "language": "python",
   "name": "python3"
  },
  "language_info": {
   "codemirror_mode": {
    "name": "ipython",
    "version": 3
   },
   "file_extension": ".py",
   "mimetype": "text/x-python",
   "name": "python",
   "nbconvert_exporter": "python",
   "pygments_lexer": "ipython3",
   "version": "3.7.6"
  }
 },
 "nbformat": 4,
 "nbformat_minor": 4
}
